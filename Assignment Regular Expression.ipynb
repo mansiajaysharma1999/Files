{
 "cells": [
  {
   "cell_type": "code",
   "execution_count": 1,
   "id": "fc994346",
   "metadata": {},
   "outputs": [],
   "source": [
    "import regex as re\n",
    "from IPython.utils.text import string"
   ]
  },
  {
   "cell_type": "markdown",
   "id": "c41315b5",
   "metadata": {},
   "source": [
    "# A regular expression in Python to split a string into uppercase letters.\n",
    "\n",
    "Sample text: “ImportanceOfRegularExpressionsInPython”\n",
    "\n",
    "Output: [‘Importance’, ‘Of’, ‘Regular’, ‘Expression’, ‘In’, ‘Python’]    \n",
    "    "
   ]
  },
  {
   "cell_type": "code",
   "execution_count": 3,
   "id": "4b20ac91",
   "metadata": {},
   "outputs": [
    {
     "name": "stdout",
     "output_type": "stream",
     "text": [
      "['Importance', 'Of', 'Regular', 'Expressions', 'In', 'Python']\n"
     ]
    }
   ],
   "source": [
    "string=\"ImportanceOfRegularExpressionsInPython\"\n",
    "pattern=r'[A-Z][^A-Z]*'\n",
    "x=re.findall(pattern,string)\n",
    "print(x)"
   ]
  },
  {
   "cell_type": "markdown",
   "id": "846d1518",
   "metadata": {},
   "source": [
    "#  Create a function in python that matches a string that has an a followed by zero or more b's"
   ]
  },
  {
   "cell_type": "code",
   "execution_count": 4,
   "id": "01df3e41",
   "metadata": {},
   "outputs": [],
   "source": [
    "def string01(text):\n",
    "    pattern=r'a(b*)$'\n",
    "    y=re.search(pattern,text)\n",
    "    print(y)"
   ]
  },
  {
   "cell_type": "code",
   "execution_count": 5,
   "id": "5e0a6cf1",
   "metadata": {},
   "outputs": [
    {
     "name": "stdout",
     "output_type": "stream",
     "text": [
      "<regex.Match object; span=(0, 5), match='abbbb'>\n"
     ]
    }
   ],
   "source": [
    "string01('abbbb')"
   ]
  },
  {
   "cell_type": "markdown",
   "id": "1126f0c4",
   "metadata": {},
   "source": [
    "# A Python program that matches a string that has an a followed by two to three 'b'."
   ]
  },
  {
   "cell_type": "code",
   "execution_count": 6,
   "id": "83005c74",
   "metadata": {},
   "outputs": [
    {
     "name": "stdout",
     "output_type": "stream",
     "text": [
      "abbb\n"
     ]
    }
   ],
   "source": [
    "string1=\"abbbbabbbbbbabbb\"\n",
    "pattern=r'ab{2,3}'\n",
    "x=re.search(pattern,string1)\n",
    "print(x.group())"
   ]
  },
  {
   "cell_type": "code",
   "execution_count": 7,
   "id": "fc893b0e",
   "metadata": {},
   "outputs": [],
   "source": [
    "def string1(text):\n",
    "    patterns='ab{2,3}'\n",
    "    x=re.search(patterns,text)  \n",
    "    \n",
    "    "
   ]
  },
  {
   "cell_type": "code",
   "execution_count": 8,
   "id": "fb0b22b0",
   "metadata": {},
   "outputs": [],
   "source": [
    "string1(\"aabbb\")"
   ]
  },
  {
   "cell_type": "markdown",
   "id": "b3d80b73",
   "metadata": {},
   "source": [
    "# A Python program to find sequences of lowercase letters joined with a underscore."
   ]
  },
  {
   "cell_type": "code",
   "execution_count": 12,
   "id": "d25a1e98",
   "metadata": {},
   "outputs": [],
   "source": [
    "def target(text1):\n",
    "    match=re.compile(r'[a-z]+_[a-z]*')\n",
    "    for x in match.finditer(text1):\n",
    "        print(x.group())"
   ]
  },
  {
   "cell_type": "code",
   "execution_count": 13,
   "id": "3d578d75",
   "metadata": {},
   "outputs": [
    {
     "name": "stdout",
     "output_type": "stream",
     "text": [
      "data_science\n",
      "math_statistics\n",
      "artificial_intelligence\n",
      "decision_making\n",
      "strategic_planning\n"
     ]
    }
   ],
   "source": [
    "target(\"data_science combines math_statistics specialized  specialized programming, advanced analytics, artificial_intelligence (AI), and machine learning with specific subject matter expertise to uncover actionable insights hidden in an organization's data. These insights can be used to guide decision_making and strategic_planning.\")"
   ]
  },
  {
   "cell_type": "markdown",
   "id": "dbd35d6f",
   "metadata": {},
   "source": [
    "# A Python program that matches a string that has an 'a' followed by anything, ending in 'b'.\n"
   ]
  },
  {
   "cell_type": "code",
   "execution_count": 14,
   "id": "2fe83d8b",
   "metadata": {},
   "outputs": [
    {
     "name": "stdout",
     "output_type": "stream",
     "text": [
      "['appleb abbbb afgdb']\n"
     ]
    }
   ],
   "source": [
    "target_string='appleb abbbb afgdb'\n",
    "pattern=r'a.*?b$'\n",
    "x=re.findall(pattern,target_string)\n",
    "print(x)"
   ]
  },
  {
   "cell_type": "markdown",
   "id": "411272c9",
   "metadata": {},
   "source": [
    "# A Python program to check that a string contains only a certain set of characters (in this case a-z, A-Z and 0-9). Write\n",
    "\n"
   ]
  },
  {
   "cell_type": "code",
   "execution_count": 21,
   "id": "ab9e087e",
   "metadata": {},
   "outputs": [],
   "source": [
    "def string(text):\n",
    "    character=r'[a-zA-Z0-9]+'\n",
    "    x=re.search(character,text)\n",
    "    print(x.group())\n"
   ]
  },
  {
   "cell_type": "code",
   "execution_count": 22,
   "id": "d5768d7e",
   "metadata": {},
   "outputs": [
    {
     "name": "stdout",
     "output_type": "stream",
     "text": [
      "asgkhbh4378nnbx\n"
     ]
    }
   ],
   "source": [
    "string('asgkhbh4378nnbx dsfv')"
   ]
  },
  {
   "cell_type": "markdown",
   "id": "91ff86a0",
   "metadata": {},
   "source": [
    "# Create a function in python that matches a string that has an a followed by one or more b's"
   ]
  },
  {
   "cell_type": "code",
   "execution_count": 23,
   "id": "f42b7351",
   "metadata": {},
   "outputs": [],
   "source": [
    "def string_1(text):\n",
    "    pattern='ab+?'\n",
    "    matches=re.search(pattern,text)\n",
    "    print(matches.group())"
   ]
  },
  {
   "cell_type": "code",
   "execution_count": 24,
   "id": "06ac09fa",
   "metadata": {},
   "outputs": [
    {
     "name": "stdout",
     "output_type": "stream",
     "text": [
      "ab\n"
     ]
    }
   ],
   "source": [
    "string_1('ab')"
   ]
  },
  {
   "cell_type": "markdown",
   "id": "fca8836d",
   "metadata": {},
   "source": [
    "# Create a function in Python and use RegEx that matches a string that has an a followed by zero or one 'b'."
   ]
  },
  {
   "cell_type": "code",
   "execution_count": 25,
   "id": "d913ff94",
   "metadata": {},
   "outputs": [],
   "source": [
    "def string_2(text):\n",
    "    pattern='ab?'\n",
    "    matches_2=re.search(pattern,text)\n",
    "    print(matches_2.group())"
   ]
  },
  {
   "cell_type": "code",
   "execution_count": 26,
   "id": "a538d3ee",
   "metadata": {},
   "outputs": [
    {
     "name": "stdout",
     "output_type": "stream",
     "text": [
      "ab\n"
     ]
    }
   ],
   "source": [
    "string_2('abbb')"
   ]
  },
  {
   "cell_type": "markdown",
   "id": "5edf94cc",
   "metadata": {},
   "source": [
    "# Write a Python program that matches a string that has an a followed by three 'b'."
   ]
  },
  {
   "cell_type": "code",
   "execution_count": 27,
   "id": "2c58eb74",
   "metadata": {},
   "outputs": [],
   "source": [
    "def string_3(text):\n",
    "    pattern='ab{3}'\n",
    "    matches_3=re.search(pattern,text)\n",
    "    print(matches_3.group())"
   ]
  },
  {
   "cell_type": "code",
   "execution_count": 28,
   "id": "5be59c77",
   "metadata": {},
   "outputs": [
    {
     "name": "stdout",
     "output_type": "stream",
     "text": [
      "abbb\n"
     ]
    }
   ],
   "source": [
    "string_3(\"abbbb\")"
   ]
  },
  {
   "cell_type": "markdown",
   "id": "d2e3e11c",
   "metadata": {},
   "source": [
    "# A Python program to remove duplicate words from Sentence using Regular Expression"
   ]
  },
  {
   "cell_type": "code",
   "execution_count": 31,
   "id": "5356e890",
   "metadata": {},
   "outputs": [
    {
     "name": "stdout",
     "output_type": "stream",
     "text": [
      "data science is the study of data to extract meaningful insights for business\n"
     ]
    }
   ],
   "source": [
    "type1='data  data science science is the study study of data data to extract meaningful insights for business'\n",
    "match=r\"\\b(\\w+)(?:\\W+\\1\\b)+\"\n",
    "remove_duplicate=re.sub(match,r'\\1',type1)\n",
    "print(remove_duplicate)\n",
    "                 \n",
    "                \n"
   ]
  },
  {
   "cell_type": "markdown",
   "id": "e754912d",
   "metadata": {},
   "source": [
    "# A Python program that matches a word at the beginning of a string."
   ]
  },
  {
   "cell_type": "code",
   "execution_count": 33,
   "id": "e2a391d6",
   "metadata": {},
   "outputs": [
    {
     "name": "stdout",
     "output_type": "stream",
     "text": [
      "['data']\n"
     ]
    }
   ],
   "source": [
    "type1='data  data science science is the study of data to extract meaningful insights for business'\n",
    "match=r\"^\\w+\"\n",
    "z=re.findall(match,type1)\n",
    "print(z)"
   ]
  },
  {
   "cell_type": "markdown",
   "id": "d5984526",
   "metadata": {},
   "source": [
    "# A Python program to match a string that contains only upper and lowercase letters, numbers, and underscores."
   ]
  },
  {
   "cell_type": "code",
   "execution_count": 34,
   "id": "5b074271",
   "metadata": {},
   "outputs": [],
   "source": [
    "# making a user defined function:\n",
    "#use finditer method \n",
    "def text(type):\n",
    "    pattern=re.compile(r'^[a-zA-Z0-9_]*$')\n",
    "    for match in pattern.finditer(type):\n",
    "        print(match.group())"
   ]
  },
  {
   "cell_type": "code",
   "execution_count": 35,
   "id": "d65d6edf",
   "metadata": {},
   "outputs": [
    {
     "name": "stdout",
     "output_type": "stream",
     "text": [
      "Data_Science_1\n"
     ]
    }
   ],
   "source": [
    "text(\"Data_Science_1\")"
   ]
  },
  {
   "cell_type": "markdown",
   "id": "480ef107",
   "metadata": {},
   "source": [
    "# A Python program where a string will start with a specific number. "
   ]
  },
  {
   "cell_type": "code",
   "execution_count": 38,
   "id": "5c7e6816",
   "metadata": {},
   "outputs": [],
   "source": [
    "def text(type):\n",
    "    p=re.compile(r\"(^9)[a-zA-Z0-9_]+\")\n",
    "    for match in p.finditer(type):\n",
    "        print(match.group())"
   ]
  },
  {
   "cell_type": "code",
   "execution_count": 39,
   "id": "bb1ffb74",
   "metadata": {},
   "outputs": [
    {
     "name": "stdout",
     "output_type": "stream",
     "text": [
      "96555_4453\n"
     ]
    }
   ],
   "source": [
    "text(\"96555_4453\")"
   ]
  },
  {
   "cell_type": "markdown",
   "id": "ae4d809b",
   "metadata": {},
   "source": [
    "# A Python program to search a literals string in a string and also find the location within the original string where the pattern occurs\n",
    "\n",
    "Sample text : 'The quick brown fox jumps over the lazy dog.'\n",
    "\n",
    "Searched words : 'fox'\n"
   ]
  },
  {
   "cell_type": "code",
   "execution_count": 40,
   "id": "38ac9a24",
   "metadata": {},
   "outputs": [
    {
     "name": "stdout",
     "output_type": "stream",
     "text": [
      "['fox']\n"
     ]
    }
   ],
   "source": [
    "sample_text=\"The quick brown fox jump over the lazy dog\"\n",
    "pattern=r'\\bf[a-z]+'\n",
    "z=re.findall(pattern,sample_text)\n",
    "print(z)"
   ]
  },
  {
   "cell_type": "markdown",
   "id": "59812905",
   "metadata": {},
   "source": [
    "# A Python program to find the substrings within a string.\n",
    "\n",
    "Sample text : 'Python exercises, PHP exercises, C# exercises'\n",
    "    \n",
    "Pattern : 'exercises'\n"
   ]
  },
  {
   "cell_type": "code",
   "execution_count": 41,
   "id": "b12ebc39",
   "metadata": {},
   "outputs": [
    {
     "name": "stdout",
     "output_type": "stream",
     "text": [
      "found 'excercise'\n",
      "found 'excercise'\n",
      "found 'excercise'\n"
     ]
    }
   ],
   "source": [
    "sample_text1='PHP excercise,Python excercise,C# excercise'\n",
    "pattern1='excercise'\n",
    "for matches in re.findall(pattern1,sample_text1):\n",
    "    print(\"found '%s'\" % matches)\n"
   ]
  },
  {
   "cell_type": "markdown",
   "id": "51f65056",
   "metadata": {},
   "source": [
    "# A Python program to find the occurrence and position of the substrings within a string."
   ]
  },
  {
   "cell_type": "code",
   "execution_count": 42,
   "id": "f4953527",
   "metadata": {},
   "outputs": [
    {
     "name": "stdout",
     "output_type": "stream",
     "text": [
      "\"excercise\" at (4, 13)\n",
      "\"excercise\" at (21, 30)\n",
      "\"excercise\" at (34, 43)\n"
     ]
    }
   ],
   "source": [
    "sample_text2='PHP excercise,Python excercise,C# excercise'\n",
    "pattern2='excercise'\n",
    "for matches in re.finditer(pattern2,sample_text2):\n",
    "    print('\"%s\" at' %pattern2,matches.span())\n"
   ]
  },
  {
   "cell_type": "markdown",
   "id": "a7fa4054",
   "metadata": {},
   "source": [
    "# A Python program to find all words starting with 'a' or 'e' in a given string."
   ]
  },
  {
   "cell_type": "code",
   "execution_count": 43,
   "id": "4db24d11",
   "metadata": {},
   "outputs": [],
   "source": [
    "def sampletext3(type):\n",
    "    p=re.compile(r'\\b[ae][a-zA-Z]*')\n",
    "    for match in p.finditer(type):\n",
    "        print(match.group())"
   ]
  },
  {
   "cell_type": "code",
   "execution_count": 44,
   "id": "370c9cdd",
   "metadata": {},
   "outputs": [
    {
     "name": "stdout",
     "output_type": "stream",
     "text": [
      "a\n",
      "expression\n",
      "a\n",
      "a\n",
      "a\n",
      "accepts\n",
      "a\n",
      "and\n"
     ]
    }
   ],
   "source": [
    "sampletext3(\"a Regular expression (or Regex) is a pattern (or filter) that describes a set of strings that matches the pattern. In other words, a regex accepts a certain set of strings and rejects the rest.\")"
   ]
  },
  {
   "cell_type": "markdown",
   "id": "0e0362c9",
   "metadata": {},
   "source": [
    "A Python program to separate and print the numbers and their position of a given string."
   ]
  },
  {
   "cell_type": "code",
   "execution_count": 45,
   "id": "283fcbec",
   "metadata": {},
   "outputs": [
    {
     "name": "stdout",
     "output_type": "stream",
     "text": [
      "34\n",
      "position of no. : (18, 20)\n",
      "55\n",
      "position of no. : (41, 43)\n",
      "78\n",
      "position of no. : (65, 67)\n"
     ]
    }
   ],
   "source": [
    "sampletext4='no. of apples are 34 , no. of grapes are 55 , no. of mangoes are 78 '\n",
    "pattern4=re.compile(r'\\d+')\n",
    "for i in pattern4.finditer(sampletext4):\n",
    "    print(i.group())\n",
    "    print(\"position of no. :\" , i.span())\n",
    "    "
   ]
  },
  {
   "cell_type": "markdown",
   "id": "f9152064",
   "metadata": {},
   "source": [
    "A regular expression in python program to extract maximum numeric value from a string"
   ]
  },
  {
   "cell_type": "code",
   "execution_count": 46,
   "id": "74f49ecb",
   "metadata": {},
   "outputs": [
    {
     "name": "stdout",
     "output_type": "stream",
     "text": [
      "['34', '55', '78']\n",
      "Max number : 78\n"
     ]
    }
   ],
   "source": [
    "sampletext5='no. of apples are 34 , no. of grapes are 55 , no. of mangoes are 78 '\n",
    "number=re.findall(r'\\d+',sampletext5)\n",
    "print(number)\n",
    "#convet it into number by using map() function\n",
    "num=map(int,number)\n",
    "print(\"Max number :\", max(num))"
   ]
  },
  {
   "cell_type": "markdown",
   "id": "093b9305",
   "metadata": {},
   "source": [
    "# A Regex in Python to put spaces between words starting with capital letters"
   ]
  },
  {
   "cell_type": "code",
   "execution_count": 49,
   "id": "cb32cc1a",
   "metadata": {},
   "outputs": [
    {
     "name": "stdout",
     "output_type": "stream",
     "text": [
      "DataScienceArtificialIntelligence\n"
     ]
    }
   ],
   "source": [
    "sample_text6='DataScienceArtificialIntelligence'\n",
    "pattern=r'(\\w)([A-z])'\n",
    "x6=re.sub(r\"(\\w)([A-Z])\",r'\\1\\2',sample_text6)\n",
    "print(x6)"
   ]
  },
  {
   "cell_type": "markdown",
   "id": "471b7b0c",
   "metadata": {},
   "source": [
    "# Python regex to find sequences of one upper case letter followed by lower case letters"
   ]
  },
  {
   "cell_type": "code",
   "execution_count": 50,
   "id": "3a978f6a",
   "metadata": {},
   "outputs": [],
   "source": [
    "def sample_text7(text1):\n",
    "    matches=re.compile(r'\\b[A-Z][a-z]*')\n",
    "    for match in matches.finditer(text1):\n",
    "        print(match.group())\n",
    "                       "
   ]
  },
  {
   "cell_type": "code",
   "execution_count": 51,
   "id": "98c8d628",
   "metadata": {},
   "outputs": [
    {
     "name": "stdout",
     "output_type": "stream",
     "text": [
      "Dr\n",
      "A\n",
      "Abdul\n",
      "Kalam\n",
      "October\n",
      "Rameswaram\n",
      "India\n",
      "His\n",
      "Avul\n",
      "Pakir\n",
      "Jainulabdeen\n",
      "Abdul\n",
      "Kalam\n",
      "He\n",
      "Indian\n",
      "Scientist\n",
      "India\n"
     ]
    }
   ],
   "source": [
    "sample_text7('Dr. APJ Abdul Kalam was born on October 15, 1931, in Rameswaram, India. His full name is Avul Pakir Jainulabdeen Abdul Kalam. He was the great Indian Scientist and politician who played an important role in the development of missiles and nuclear weapons for India.')\n"
   ]
  },
  {
   "cell_type": "markdown",
   "id": "a75ff7d5",
   "metadata": {},
   "source": [
    "# A python program using RegEx to accept string ending with alphanumeric character."
   ]
  },
  {
   "cell_type": "code",
   "execution_count": 54,
   "id": "3a2121c8",
   "metadata": {},
   "outputs": [
    {
     "name": "stdout",
     "output_type": "stream",
     "text": [
      "['mansisharma7', '']\n"
     ]
    }
   ],
   "source": [
    "string2=\"mansisharma7\"\n",
    "p='[a-zA-Z0-9]*$'\n",
    "x=re.findall(p,string2)\n",
    "print(x)"
   ]
  },
  {
   "cell_type": "markdown",
   "id": "965b6406",
   "metadata": {},
   "source": [
    "# A python program using RegEx to extract the hashtags.\n",
    "\n",
    "Sample Text: text = \"\"\"RT @kapil_kausik: #Doltiwal I mean #xyzabc is \"hurt\" by #Demonetization as the same has rendered USELESS <ed><U+00A0><U+00BD><ed><U+00B1><U+0089> \"acquired funds\" No wo\"\"\"\n",
    "\n",
    "    Output: ['#Doltiwal', '#xyzabc', '#Demonetization']\n"
   ]
  },
  {
   "cell_type": "code",
   "execution_count": 55,
   "id": "2a7b6ad2",
   "metadata": {},
   "outputs": [
    {
     "name": "stdout",
     "output_type": "stream",
     "text": [
      "['#Doltiwal', '#xyzabc', '#Demonetization']\n"
     ]
    }
   ],
   "source": [
    "sample_text8= \"\"\"RT @kapil_kausik: #Doltiwal I mean #xyzabc is \"hurt\" by #Demonetization as the same has rendered USELESS <U+00A0><U+00BD><U+00B1><U+0089> \"acquired funds\" No wo\"\"\"\n",
    "matches=r'[#]\\w+'\n",
    "x8=re.findall(matches,sample_text8)\n",
    "print(x8)"
   ]
  },
  {
   "cell_type": "markdown",
   "id": "c61c82ca",
   "metadata": {},
   "source": [
    "# write a Python program to convert a date of yyyy-mm-dd format to dd-mm-yyyy format."
   ]
  },
  {
   "cell_type": "code",
   "execution_count": 58,
   "id": "ab282c1d",
   "metadata": {},
   "outputs": [],
   "source": [
    "def date(text):\n",
    "    convert=re.sub(r'(\\d{4})-(\\d{1,2})-(\\d{1,2})','\\\\3-\\\\2-\\\\1',text)\n",
    "    print(convert)\n"
   ]
  },
  {
   "cell_type": "code",
   "execution_count": 59,
   "id": "d30b30b9",
   "metadata": {},
   "outputs": [
    {
     "name": "stdout",
     "output_type": "stream",
     "text": [
      "16-07-2023\n"
     ]
    }
   ],
   "source": [
    "date('2023-07-16')"
   ]
  },
  {
   "cell_type": "markdown",
   "id": "9eccc814",
   "metadata": {},
   "source": [
    "# Write a Python program to search some literals strings in a string. Go to the editor\n"
   ]
  },
  {
   "cell_type": "code",
   "execution_count": null,
   "id": "cceb4d28",
   "metadata": {},
   "outputs": [],
   "source": [
    "sample_text=\"The quick brown fox jumps over the lazy dog\"\n",
    "pattern=r'[fox,dog,horse]'\n",
    "x=re.search(pattern,sample_text)\n",
    "print(x.group())"
   ]
  },
  {
   "cell_type": "markdown",
   "id": "40e5a2a3",
   "metadata": {},
   "source": [
    "# Write a python program to extract dates from the text stored in the text file.\n"
   ]
  },
  {
   "cell_type": "code",
   "execution_count": 62,
   "id": "a07557d8",
   "metadata": {},
   "outputs": [
    {
     "name": "stdout",
     "output_type": "stream",
     "text": [
      "[('12', '09', '1992'), ('15', '12', '1999')]\n"
     ]
    }
   ],
   "source": [
    "with open(\"C:/Users/A/Desktop/dateextract.txt\")as file:\n",
    "    for line in file:\n",
    "        pattern=r'(\\d{1,2})-(\\d{1,2})-(\\d{4})'\n",
    "        date=re.findall(pattern,line)\n",
    "        print(date)"
   ]
  },
  {
   "cell_type": "markdown",
   "id": "caf5df0a",
   "metadata": {},
   "source": [
    "# A regular expression in python to match a date string in the form of Month name followed by day number and year stored in a text file."
   ]
  },
  {
   "cell_type": "code",
   "execution_count": null,
   "id": "d8feda80",
   "metadata": {},
   "outputs": [],
   "source": [
    "with open(\"C:/Users/A/Desktop/stringdateextract.txt\")as file:\n",
    "    for line in file:\n",
    "        pattern=re.compile(r'^[A-Za-z]+\\d$')\n",
    "        pattern.finditer(file)\n",
    "        print(string)"
   ]
  },
  {
   "cell_type": "code",
   "execution_count": null,
   "id": "c35a6f12",
   "metadata": {},
   "outputs": [],
   "source": []
  },
  {
   "cell_type": "code",
   "execution_count": null,
   "id": "778af498",
   "metadata": {},
   "outputs": [],
   "source": []
  },
  {
   "cell_type": "code",
   "execution_count": null,
   "id": "507bbb59",
   "metadata": {},
   "outputs": [],
   "source": []
  }
 ],
 "metadata": {
  "kernelspec": {
   "display_name": "Python 3 (ipykernel)",
   "language": "python",
   "name": "python3"
  },
  "language_info": {
   "codemirror_mode": {
    "name": "ipython",
    "version": 3
   },
   "file_extension": ".py",
   "mimetype": "text/x-python",
   "name": "python",
   "nbconvert_exporter": "python",
   "pygments_lexer": "ipython3",
   "version": "3.9.13"
  }
 },
 "nbformat": 4,
 "nbformat_minor": 5
}
