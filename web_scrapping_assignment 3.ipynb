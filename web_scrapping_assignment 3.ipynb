{
 "cells": [
  {
   "cell_type": "code",
   "execution_count": null,
   "id": "82fd9663",
   "metadata": {},
   "outputs": [],
   "source": [
    "from selenium import webdriver\n",
    "import time\n",
    "from selenium.webdriver.common.by import By\n",
    "from selenium.common.exceptions import NoSuchElementException,StaleElementReferenceException\n",
    "import warnings\n",
    "warnings.filterwarnings(\"ignore\")\n",
    "from selenium.webdriver.support.ui import WebDriverWait\n",
    "from selenium.webdriver.support import expected_conditions as EC "
   ]
  },
  {
   "cell_type": "code",
   "execution_count": null,
   "id": "bb409874",
   "metadata": {},
   "outputs": [],
   "source": [
    "from bs4 import BeautifulSoup\n",
    "import requests"
   ]
  },
  {
   "cell_type": "code",
   "execution_count": null,
   "id": "e3450a52",
   "metadata": {},
   "outputs": [],
   "source": [
    "# take user input\n",
    "item=input('enter an item')"
   ]
  },
  {
   "cell_type": "markdown",
   "id": "9f7f6340",
   "metadata": {},
   "source": [
    "# We have to scrap the details of the above product of first 3 pages:\n",
    "    \n",
    "# Details to be scraped are:\n",
    "\n",
    "Brand Name,\n",
    "\n",
    "Name of the Product,\n",
    "\n",
    "Price,\n",
    "\n",
    "Return/Exchange,\n",
    "\n",
    "Expected Delivery,\n",
    "\n",
    "Availability,\n",
    "\n",
    "Product URL. In case, if any of the details are missing for any of the product then replace it by “-“. "
   ]
  },
  {
   "cell_type": "code",
   "execution_count": null,
   "id": "5dd00945",
   "metadata": {},
   "outputs": [],
   "source": [
    "#scrap webpage of Amazon.in\n",
    "driver=webdriver.Chrome(r\"chromedriver.exe\")\n",
    "driver.get('https://www.amazon.in/')"
   ]
  },
  {
   "cell_type": "code",
   "execution_count": null,
   "id": "043f8651",
   "metadata": {},
   "outputs": [],
   "source": [
    "#search for laptops\n",
    "input=driver.find_element(By.XPATH,'/html/body/div[1]/header/div/div[1]/div[2]/div/form/div[2]/div[1]/input')\n",
    "input.send_keys(' laptops')"
   ]
  },
  {
   "cell_type": "code",
   "execution_count": null,
   "id": "fb0f0f20",
   "metadata": {},
   "outputs": [],
   "source": [
    "#click click search button\n",
    "search=driver.find_element(By.XPATH,'/html/body/div[1]/header/div/div[1]/div[2]/div/form/div[3]/div/span/input')\n",
    "search.click()"
   ]
  },
  {
   "cell_type": "code",
   "execution_count": null,
   "id": "673e86e7",
   "metadata": {},
   "outputs": [],
   "source": [
    "#fetching the product url\n",
    "laptop_url=[]\n",
    "start=0\n",
    "end=3\n",
    "for page in range(start,end):\n",
    "    try:\n",
    "        url=driver.find_elements(By.XPATH,'//a[@class=\"a-link-normal s-underline-text s-underline-link-text s-link-style a-text-normal\"]')\n",
    "        for i in url:\n",
    "            laptop_url.append(i.get_attribute('href'))\n",
    "    except NoSuchElementException as e:\n",
    "        print(\"--\")\n",
    "        next_button=driver.find_element(By.XPATH,'/html/body/div[1]/div[2]/div[1]/div[1]/div/span[1]/div[1]/div[31]/div/div/span/a[3]')\n",
    "    "
   ]
  },
  {
   "cell_type": "code",
   "execution_count": null,
   "id": "18d3bdb0",
   "metadata": {},
   "outputs": [],
   "source": [
    "len(laptop_url)"
   ]
  },
  {
   "cell_type": "code",
   "execution_count": null,
   "id": "652d7508",
   "metadata": {},
   "outputs": [],
   "source": [
    "#scrap the product name\n",
    "product=[]\n",
    "for i in laptop_url:\n",
    "    driver.get(i)\n",
    "    time.sleep(1)\n",
    "    try:\n",
    "        p=driver.find_element(By.XPATH,'//div[@class=\"a-section a-spacing-small a-spacing-top-small\"]/table/tbody/tr[2]/td[2]/span')\n",
    "        product.append(p.text)\n",
    "    except NoSuchElementException as e:\n",
    "        print(\"--\")\n",
    "        next_button=driver.find_elements('/html/body/div[1]/div[2]/div[1]/div[1]/div/span[1]/div[1]/div[29]/div/div/span/a[3]')"
   ]
  },
  {
   "cell_type": "code",
   "execution_count": null,
   "id": "bdde4e03",
   "metadata": {},
   "outputs": [],
   "source": [
    "product"
   ]
  },
  {
   "cell_type": "code",
   "execution_count": null,
   "id": "eddd1f45",
   "metadata": {},
   "outputs": [],
   "source": [
    "# scrap the brand name\n",
    "brand=[]\n",
    "for i in laptop_url:\n",
    "    driver.get(i)\n",
    "    time.sleep(1)\n",
    "    b=driver.find_element(By.XPATH,'//span[@class=\"a-size-base po-break-word\"]')\n",
    "    brand.append(b.text)\n",
    "    next_button=driver.find_elements(By.XPATH,'/html/body/div[1]/div[2]/div[1]/div[1]/div/span[1]/div[1]/div[29]/div/div/span/a[3]')"
   ]
  },
  {
   "cell_type": "code",
   "execution_count": null,
   "id": "4ac6c09a",
   "metadata": {},
   "outputs": [],
   "source": [
    "brand"
   ]
  },
  {
   "cell_type": "code",
   "execution_count": null,
   "id": "f540c882",
   "metadata": {},
   "outputs": [],
   "source": [
    "# scrap Availiblity of the product:\n",
    "availiblity=[]\n",
    "for i in laptop_url:\n",
    "    driver.get(i)\n",
    "    time.sleep(1)\n",
    "    try:\n",
    "        a=driver.find_element(By.XPATH,'//div[@class=\"a-section a-spacing-none a-spacing-top-micro }\"]')\n",
    "        availiblity.append(a.text)\n",
    "        \n",
    "    except NoSuchElementException as e:\n",
    "        availiblity.append(\"--\")\n",
    "        next_button=driver.find_elements(By.XPATH,'/html/body/div[1]/div[2]/div[1]/div[1]/div/span[1]/div[1]/div[29]/div/div/span/a[3]')\n",
    "        \n",
    "        "
   ]
  },
  {
   "cell_type": "code",
   "execution_count": null,
   "id": "03b6a558",
   "metadata": {},
   "outputs": [],
   "source": [
    "len(availiblity)"
   ]
  },
  {
   "cell_type": "code",
   "execution_count": null,
   "id": "2503dd5d",
   "metadata": {},
   "outputs": [],
   "source": [
    "# scrap the price of the product:\n",
    "price=[]\n",
    "for i in laptop_url:\n",
    "    driver.get(i)\n",
    "    time.sleep(1)\n",
    "    try:\n",
    "        p=driver.find_element(By.XPATH,'//span[@class=\"a-offscreen\"]')\n",
    "        price.append(p.text)\n",
    "    except NoSuchElementException as e:\n",
    "        price.append(\"-\")\n",
    "        next_button=driver.find_elements(By.XPATH,'/html/body/div[1]/div[2]/div[1]/div[1]/div/span[1]/div[1]/div[29]/div/div/span/a[3]')\n",
    "        \n",
    "        \n",
    "    "
   ]
  },
  {
   "cell_type": "code",
   "execution_count": null,
   "id": "2b11657c",
   "metadata": {},
   "outputs": [],
   "source": [
    "len(price)"
   ]
  },
  {
   "cell_type": "code",
   "execution_count": null,
   "id": "a5d4beda",
   "metadata": {},
   "outputs": [],
   "source": [
    "print(len(product),len(laptop_url),len(availiblity),len(brand))\n",
    "    "
   ]
  },
  {
   "cell_type": "code",
   "execution_count": null,
   "id": "090925a4",
   "metadata": {},
   "outputs": [],
   "source": [
    "import pandas as pd\n",
    "df=pd.DataFrame({'Brand':brand,'Product_Name':product,'AVAILIBLITY':availiblity,'Product_url':laptop_url})\n",
    "df"
   ]
  },
  {
   "cell_type": "code",
   "execution_count": null,
   "id": "de21d445",
   "metadata": {},
   "outputs": [],
   "source": [
    "#make a csv file\n",
    "df.to_csv('laptop.csv')"
   ]
  },
  {
   "cell_type": "markdown",
   "id": "793ea08d",
   "metadata": {},
   "source": [
    "# Write a python program to access the search bar and search button on images.google.com and scrape 10\n",
    "images each for keywords ‘fruits’, ‘cars’ and ‘Machine Learning’, ‘Guitar’, ‘Cakes"
   ]
  },
  {
   "cell_type": "markdown",
   "id": "e5702817",
   "metadata": {},
   "source": [
    "# images for cakes"
   ]
  },
  {
   "cell_type": "code",
   "execution_count": null,
   "id": "1e39d088",
   "metadata": {},
   "outputs": [],
   "source": [
    "driver=webdriver.Chrome(r\"chromedriver.exe\")"
   ]
  },
  {
   "cell_type": "code",
   "execution_count": null,
   "id": "ae446b71",
   "metadata": {},
   "outputs": [],
   "source": [
    "driver.get('https://www.google.com/')"
   ]
  },
  {
   "cell_type": "code",
   "execution_count": null,
   "id": "17ff0b74",
   "metadata": {},
   "outputs": [],
   "source": [
    "input1=driver.find_element(By.CLASS_NAME,\"gLFyf\")\n",
    "input1.send_keys('cakes')"
   ]
  },
  {
   "cell_type": "code",
   "execution_count": null,
   "id": "7ba725d1",
   "metadata": {},
   "outputs": [],
   "source": [
    "click=driver.find_element(By.CLASS_NAME,\"gLFyf\")\n",
    "click.click()"
   ]
  },
  {
   "cell_type": "code",
   "execution_count": null,
   "id": "4b0d5417",
   "metadata": {},
   "outputs": [],
   "source": [
    "images=driver.find_element(By.CLASS_NAME,\"O3S9Rb\")\n",
    "images.click()"
   ]
  },
  {
   "cell_type": "code",
   "execution_count": null,
   "id": "2e4bc5af",
   "metadata": {},
   "outputs": [],
   "source": [
    "for _ in range(20):\n",
    "    driver.execute_script(\"window.scrollBy(0,1000)\")\n",
    "    \n",
    "images=driver.find_elements(By.XPATH,'//img[@class=\"rg_i Q4LuWd\"]')   \n",
    "image_urls=[]\n",
    "image_data=[]\n",
    "for image in images:\n",
    "    source=image.get_attribute('src')\n",
    "    if source is not None:\n",
    "        if(source[0:4]=='http'):\n",
    "            image_urls.append(source)\n",
    "            \n",
    "\n",
    "for i in range(len(image_urls)):\n",
    "    if i>10:\n",
    "        breakBy.XPATH,\n",
    "    print(\"Downloading {0} of {1} images\" .format(i,10))\n",
    "    response=requests.get(image_urls[i])\n",
    "    file=open(r\"C:\\Users\\A\\Pictures\\Screenshots\\New folder\"+str(i)+\".jpg\",\"wb\")\n",
    "    file.write(response.content)\n",
    "            \n",
    "            \n"
   ]
  },
  {
   "cell_type": "markdown",
   "id": "0724c26f",
   "metadata": {},
   "source": [
    "# Images for Fruits"
   ]
  },
  {
   "cell_type": "code",
   "execution_count": null,
   "id": "1f46fc44",
   "metadata": {},
   "outputs": [],
   "source": [
    "driver=webdriver.Chrome(r\"chromedriver.exe\")\n",
    "driver.get('https://www.google.com/')\n",
    "\n",
    "input1=driver.find_element(By.CLASS_NAME,\"gLFyf\")\n",
    "input1.send_keys('fruits')\n",
    "\n",
    "click=driver.find_element(By.CLASS_NAME,\"gLFyf\")\n",
    "click.click()"
   ]
  },
  {
   "cell_type": "code",
   "execution_count": null,
   "id": "5e9f439a",
   "metadata": {},
   "outputs": [],
   "source": [
    "images=driver.find_element(By.CLASS_NAME,\"O3S9Rb\")\n",
    "images.click()"
   ]
  },
  {
   "cell_type": "code",
   "execution_count": null,
   "id": "912da4e8",
   "metadata": {},
   "outputs": [],
   "source": [
    "for _ in range(20):\n",
    "    driver.execute_script(\"window.scrollBy(0,1000)\")\n",
    "    \n",
    "fruit=driver.find_elements(By.XPATH,'//img[@class=\"rg_i Q4LuWd\"]')   \n",
    "fruit_urls=[]\n",
    "fruit_data=[]\n",
    "for image in fruit:\n",
    "    source=image.get_attribute('src')\n",
    "    if source is not None:\n",
    "        if(source[0:4]=='http'):\n",
    "            fruit_urls.append(source)\n",
    "            \n",
    "\n",
    "for i in range(len(fruit_urls)):\n",
    "    if i>10:\n",
    "        breakBy.XPATH,\n",
    "    print(\"Downloading {0} of {1} images\" .format(i,10))\n",
    "    response=requests.get(fruit_urls[i])\n",
    "    file=open(r\"C:\\Users\\A\\Pictures\\Screenshots\\New folder\"+str(i)+\".jpg\",\"wb\")\n",
    "    file.write(response.content)\n",
    "            \n",
    "            \n"
   ]
  },
  {
   "cell_type": "markdown",
   "id": "4a991776",
   "metadata": {},
   "source": [
    "# Images for Cars"
   ]
  },
  {
   "cell_type": "code",
   "execution_count": null,
   "id": "389a5b71",
   "metadata": {},
   "outputs": [],
   "source": [
    "driver=webdriver.Chrome(r\"chromedriver.exe\")\n",
    "driver.get('https://www.google.com/')\n",
    "input1=driver.find_element(By.CLASS_NAME,\"gLFyf\")\n",
    "input1.send_keys('cars')\n",
    "\n",
    "           "
   ]
  },
  {
   "cell_type": "code",
   "execution_count": null,
   "id": "c3ca57c9",
   "metadata": {},
   "outputs": [],
   "source": [
    "images=driver.find_element(By.CLASS_NAME,\"O3S9Rb\")\n",
    "images.click()"
   ]
  },
  {
   "cell_type": "code",
   "execution_count": null,
   "id": "f5cb3b7b",
   "metadata": {},
   "outputs": [],
   "source": [
    "for _ in range(20):\n",
    "    driver.execute_script(\"window.scrollBy(0,1000)\")\n",
    "    \n",
    "cars=driver.find_elements(By.XPATH,'//img[@class=\"rg_i Q4LuWd\"]')   \n",
    "car_urls=[]\n",
    "car_data=[]\n",
    "for car in cars:\n",
    "    source=car.get_attribute('src')\n",
    "    if source is not None:\n",
    "        if(source[0:4]=='http'):\n",
    "            car_urls.append(source)\n",
    "            \n",
    "\n",
    "for i in range(len(car_urls)):\n",
    "    if i>10:\n",
    "        break\n",
    "    print(\"Downloading {0} of {1} images\" .format(i,10))\n",
    "    response=requests.get(car_urls[i])\n",
    "    file=open(r\"C:\\Users\\A\\Pictures\\Screenshots\\New folder\"+str(i)+\".jpg\",\"wb\")\n",
    "    file.write(response.content)\n",
    "            \n",
    "            "
   ]
  },
  {
   "cell_type": "markdown",
   "id": "4dd98d38",
   "metadata": {},
   "source": [
    "# Images for Guitar"
   ]
  },
  {
   "cell_type": "code",
   "execution_count": null,
   "id": "fdbf0249",
   "metadata": {},
   "outputs": [],
   "source": [
    "driver=webdriver.Chrome(r\"chromedriver.exe\")\n",
    "driver.get('https://www.google.com/')\n",
    "input1=driver.find_element(By.CLASS_NAME,\"gLFyf\")\n",
    "input1.send_keys('Guitar')\n",
    "\n"
   ]
  },
  {
   "cell_type": "code",
   "execution_count": null,
   "id": "fadee9b8",
   "metadata": {},
   "outputs": [],
   "source": [
    "images=driver.find_element(By.CLASS_NAME,\"O3S9Rb\")\n",
    "images.click()"
   ]
  },
  {
   "cell_type": "code",
   "execution_count": null,
   "id": "f6227801",
   "metadata": {},
   "outputs": [],
   "source": [
    "for _ in range(20):\n",
    "    driver.execute_script('window.scrollBy(0,1000)')\n",
    "    \n",
    "guitar=driver.find_elements(By.XPATH,'//img[@class=\"rg_i Q4LuWd\"]')   \n",
    "guitar_urls=[]\n",
    "guitar_data=[]\n",
    "for g in guitar:\n",
    "    source=g.get_attribute('src')\n",
    "    if source is not None:\n",
    "        if (source[0:4]=='http'):\n",
    "            guitar_urls.append(source)\n",
    "            \n",
    "for i in range(len(guitar_urls)):\n",
    "    if i>10:\n",
    "        break\n",
    "    print(\"Downloading {0} of {1} images\" .format(i,10))\n",
    "    response=requests.get(guitar_urls[i])\n",
    "    file=open(r\"C:\\Users\\A\\Pictures\\Screenshots\\New folder\"+str(i)+\".jpg\",\"wb\")\n",
    "    file.write(response.content)\n",
    "        \n",
    "        \n",
    "        \n",
    "        \n",
    "            "
   ]
  },
  {
   "cell_type": "markdown",
   "id": "6f328db5",
   "metadata": {},
   "source": [
    "# images for Machine Learning"
   ]
  },
  {
   "cell_type": "code",
   "execution_count": null,
   "id": "34766226",
   "metadata": {},
   "outputs": [],
   "source": [
    "driver=webdriver.Chrome(r\"chromedriver.exe\")\n",
    "driver.get('https://www.google.com/')\n",
    "input1=driver.find_element(By.CLASS_NAME,\"gLFyf\")\n",
    "input1.send_keys('Machine Learning')\n"
   ]
  },
  {
   "cell_type": "code",
   "execution_count": null,
   "id": "662b96c7",
   "metadata": {},
   "outputs": [],
   "source": [
    "images=driver.find_element(By.CLASS_NAME,\"O3S9Rb\")\n",
    "images.click()"
   ]
  },
  {
   "cell_type": "code",
   "execution_count": null,
   "id": "935f689b",
   "metadata": {},
   "outputs": [],
   "source": [
    "for _ in range(20):\n",
    "    driver.execute_script('window.scrollBy(0,1000)')\n",
    "    \n",
    "m_l=driver.find_elements(By.XPATH,'//img[@class=\"rg_i Q4LuWd\"]')\n",
    "m_l_urls=[]\n",
    "m_l_data=[]\n",
    "for i in m_l:\n",
    "    source=i.get_attribute('src')\n",
    "    if source is not None:\n",
    "        if(source[0:4]=='http'):\n",
    "            m_l_urls.append(source)\n",
    "            \n",
    "for p in range(len(m_l_urls)):\n",
    "    if p>10:\n",
    "        break\n",
    "        print('Downloading{0} of {1} images' .format(p,10))\n",
    "        response=requests.get(m_l_urls[p])\n",
    "        file=open(r\"C:\\Users\\A\\Pictures\\Screenshots\\New folder\"+str(p)+\".jpg\",\"wb\")\n",
    "        file.write(response.content)\n"
   ]
  },
  {
   "cell_type": "code",
   "execution_count": null,
   "id": "b026be80",
   "metadata": {},
   "outputs": [],
   "source": []
  },
  {
   "cell_type": "markdown",
   "id": "4cf895c3",
   "metadata": {},
   "source": [
    "# Write a python program to search for a smartphone(e.g.: Oneplus Nord, pixel 4A, etc.) on www.flipkart.com\n",
    "\n",
    "We have to scrape following details for all the search results displayed on 1st page.\n",
    "\n",
    "Details to be scraped: “BrandName”--> “Smartphone name”-->“Colour”--> “RAM”--> “Storage(ROM)”--> “Primary Camera”\n",
    "-->“Secondary Camera”--> “Display Size”--> “Battery Capacity”--> “Price”--> “Product URL”.\n",
    "\n",
    " Save the results in a dataframe and CSV"
   ]
  },
  {
   "cell_type": "code",
   "execution_count": null,
   "id": "37bf554a",
   "metadata": {},
   "outputs": [],
   "source": [
    "#scrapping webpage\n",
    "driver=webdriver.Chrome(r\"chromedriver.exe\")\n",
    "driver.get('https://www.flipkart.com/')"
   ]
  },
  {
   "cell_type": "code",
   "execution_count": null,
   "id": "86b30e85",
   "metadata": {},
   "outputs": [],
   "source": [
    "# close popup\n",
    "close=driver.find_element(By.XPATH,'/html/body/div[2]/div/div/button')\n",
    "close.click()"
   ]
  },
  {
   "cell_type": "code",
   "execution_count": null,
   "id": "8ebb8a95",
   "metadata": {},
   "outputs": [],
   "source": [
    "#Enter the smartphone name\n",
    "search=driver.find_element(By.XPATH,'/html/body/div[1]/div/div[1]/div[1]/div[2]/div[2]/form/div/div/input')\n",
    "search.send_keys(\"oneplus Nord,pixel,A4\")"
   ]
  },
  {
   "cell_type": "code",
   "execution_count": null,
   "id": "1b7951ae",
   "metadata": {},
   "outputs": [],
   "source": [
    "# scrap click button\n",
    "search=driver.find_element(By.XPATH,'/html/body/div[1]/div/div[1]/div[1]/div[2]/div[2]/form/div/button')\n",
    "search.click()"
   ]
  },
  {
   "cell_type": "code",
   "execution_count": null,
   "id": "f41bb390",
   "metadata": {},
   "outputs": [],
   "source": [
    "#scrap smartphone name\n",
    "smartphone=[]\n",
    "a=driver.find_elements(By.XPATH,'//div[@class=\"_4rR01T\"]')\n",
    "for i in a:\n",
    "    smartphone.append(i.text)\n",
    "    "
   ]
  },
  {
   "cell_type": "code",
   "execution_count": null,
   "id": "d0f6f815",
   "metadata": {},
   "outputs": [],
   "source": [
    "smartphone"
   ]
  },
  {
   "cell_type": "code",
   "execution_count": null,
   "id": "5500367a",
   "metadata": {},
   "outputs": [],
   "source": [
    "# scrap the price\n",
    "price=[]\n",
    "p=driver.find_elements(By.XPATH,'//div[@class=\"_30jeq3 _1_WHN1\"]')\n",
    "for i in p:\n",
    "    price.append(i.text)"
   ]
  },
  {
   "cell_type": "code",
   "execution_count": null,
   "id": "80f66435",
   "metadata": {},
   "outputs": [],
   "source": [
    "price"
   ]
  },
  {
   "cell_type": "code",
   "execution_count": null,
   "id": "19ddcaeb",
   "metadata": {},
   "outputs": [],
   "source": [
    "# scrap battery details\n",
    "battery=[]\n",
    "b=driver.find_elements(By.XPATH,'//div[@class=\"fMghEO\"]/ul/li[4]')\n",
    "for i in b:\n",
    "    battery.append(i.text)"
   ]
  },
  {
   "cell_type": "code",
   "execution_count": null,
   "id": "d607a82d",
   "metadata": {},
   "outputs": [],
   "source": [
    "battery"
   ]
  },
  {
   "cell_type": "code",
   "execution_count": null,
   "id": "697eb8b2",
   "metadata": {},
   "outputs": [],
   "source": [
    "#fetching out urls\n",
    "url=[]\n",
    "u=driver.find_elements(By.XPATH,'//a[@class=\"_1fQZEK\"]')\n",
    "for i in u:\n",
    "    url.append(i.get_attribute('href'))"
   ]
  },
  {
   "cell_type": "code",
   "execution_count": null,
   "id": "e4200c0b",
   "metadata": {},
   "outputs": [],
   "source": [
    "url"
   ]
  },
  {
   "cell_type": "code",
   "execution_count": null,
   "id": "0188a986",
   "metadata": {},
   "outputs": [],
   "source": [
    "# scrapping ram\n",
    "Ram=[]\n",
    "ram=driver.find_elements(By.XPATH,'//div[@class=\"fMghEO\"]/ul/li[1]')\n",
    "for i in ram:\n",
    "    Ram.append(i.text.split('|')[0])"
   ]
  },
  {
   "cell_type": "code",
   "execution_count": null,
   "id": "241bcb0a",
   "metadata": {},
   "outputs": [],
   "source": [
    "Ram"
   ]
  },
  {
   "cell_type": "code",
   "execution_count": null,
   "id": "0a358ba6",
   "metadata": {},
   "outputs": [],
   "source": [
    "# scrapping rom\n",
    "Rom=[]\n",
    "rom=driver.find_elements(By.XPATH,'//div[@class=\"fMghEO\"]/ul/li[1]')\n",
    "for i in rom:\n",
    "    Rom.append(i.text.split('|')[1])\n",
    "    \n",
    "    "
   ]
  },
  {
   "cell_type": "code",
   "execution_count": null,
   "id": "9e5f0a72",
   "metadata": {},
   "outputs": [],
   "source": [
    "Rom"
   ]
  },
  {
   "cell_type": "code",
   "execution_count": null,
   "id": "32e7a158",
   "metadata": {},
   "outputs": [],
   "source": [
    "#srap display of smartphone\n",
    "Display=[]\n",
    "dp=driver.find_elements(By.XPATH,'//div[@class=\"fMghEO\"]/ul/li[2]')\n",
    "for i in dp:\n",
    "    Display.append(i.text)\n",
    "\n"
   ]
  },
  {
   "cell_type": "code",
   "execution_count": null,
   "id": "6ade6865",
   "metadata": {},
   "outputs": [],
   "source": [
    "Display"
   ]
  },
  {
   "cell_type": "code",
   "execution_count": null,
   "id": "ae7f89df",
   "metadata": {},
   "outputs": [],
   "source": [
    "#scrapping primar/secondary camera details\n",
    "camera=[]\n",
    "c=driver.find_elements(By.XPATH,'//div[@class=\"fMghEO\"]/ul/li[3]')\n",
    "for i in c:\n",
    "    camera.append(i.text)"
   ]
  },
  {
   "cell_type": "code",
   "execution_count": null,
   "id": "7069c934",
   "metadata": {},
   "outputs": [],
   "source": [
    "camera"
   ]
  },
  {
   "cell_type": "code",
   "execution_count": null,
   "id": "d4e36a23",
   "metadata": {},
   "outputs": [],
   "source": [
    "#scrap the brand name\n",
    "model_name=[]\n",
    "for i in url:\n",
    "    driver.get(i)\n",
    "    time.sleep(1)\n",
    "    try:\n",
    "        m=driver.find_element(By.XPATH,'//*[@id=\"container\"]/div/div[3]/div[1]/div[2]/div[8]/div[4]/div/div[2]/div/div[1]/table/tbody/tr[3]/td[2]/ul/li')\n",
    "        model_name.append(m.text)\n",
    "    except NoSuchElementException as e:\n",
    "        model_name.append(\"--\")\n",
    "    "
   ]
  },
  {
   "cell_type": "code",
   "execution_count": null,
   "id": "ac859fb8",
   "metadata": {},
   "outputs": [],
   "source": [
    "model_name"
   ]
  },
  {
   "cell_type": "code",
   "execution_count": null,
   "id": "a2e4525e",
   "metadata": {},
   "outputs": [],
   "source": [
    "#scrap the colour of smartphone\n",
    "colour=[]\n",
    "for i in url:\n",
    "    driver.get(i)\n",
    "    time.sleep(1)\n",
    "    try:\n",
    "        c=driver.find_element(By.XPATH,'//*[@id=\"container\"]/div/div[3]/div[1]/div[2]/div[8]/div[4]/div/div[2]/div/div[1]/table/tbody/tr[4]/td[2]/ul/li')\n",
    "        colour.append(c.text)\n",
    "    except NoSuchElementException as e:\n",
    "        colour.append(\"--\")\n",
    "    \n",
    "    "
   ]
  },
  {
   "cell_type": "code",
   "execution_count": null,
   "id": "09a41a49",
   "metadata": {},
   "outputs": [],
   "source": [
    "colour"
   ]
  },
  {
   "cell_type": "code",
   "execution_count": null,
   "id": "5128f96a",
   "metadata": {},
   "outputs": [],
   "source": [
    "import pandas as pd\n",
    "df=pd.DataFrame({'SMARTPHONE_NAME':smartphone,'BRAND_NAME':model_name,'PRICE':price,'RAM':Ram,'ROM':Rom,'CAMERA':camera,'DISPLAY':Display,'COLOUR':colour,'BATTERY':battery,'URL':url})\n",
    "df\n",
    "            "
   ]
  },
  {
   "cell_type": "code",
   "execution_count": null,
   "id": "9eb42c88",
   "metadata": {},
   "outputs": [],
   "source": [
    "df.to_csv(\"smartphone.csv\")"
   ]
  },
  {
   "cell_type": "code",
   "execution_count": null,
   "id": "126b843f",
   "metadata": {},
   "outputs": [],
   "source": []
  },
  {
   "cell_type": "markdown",
   "id": "32268f04",
   "metadata": {},
   "source": [
    "# Write a program to scrap all the available details of best gaming laptops from digit.in. "
   ]
  },
  {
   "cell_type": "code",
   "execution_count": null,
   "id": "f0f45eaf",
   "metadata": {},
   "outputs": [],
   "source": [
    "driver=webdriver.Chrome(r\"chromedriver.exe\")\n",
    "driver.get('https://www.digit.in/')"
   ]
  },
  {
   "cell_type": "code",
   "execution_count": null,
   "id": "048787fd",
   "metadata": {},
   "outputs": [],
   "source": [
    "laptop=driver.find_element(By.XPATH,'//span[@class=\"arrow_down laptops\"]')\n",
    "laptop.click()"
   ]
  },
  {
   "cell_type": "code",
   "execution_count": null,
   "id": "74b0fe98",
   "metadata": {},
   "outputs": [],
   "source": [
    "best_laptop=driver.find_element(By.XPATH,'/html/body/div[2]/div/ul/li[2]/div[3]/div/div[1]/span[4]/strong')\n",
    "best_laptop.click()\n"
   ]
  },
  {
   "cell_type": "code",
   "execution_count": null,
   "id": "150f7742",
   "metadata": {},
   "outputs": [],
   "source": [
    "search=driver.find_element(By.XPATH,'/html/body/div[1]/div/div[3]/div[3]/div/div/input')\n",
    "search.click()"
   ]
  },
  {
   "cell_type": "code",
   "execution_count": null,
   "id": "d427f950",
   "metadata": {},
   "outputs": [],
   "source": [
    "best_gaming_laptop=driver.find_element(By.XPATH,'/html/body/div[2]/div/ul/li[2]/div[3]/div/div[5]/div/div[2]/a/span')\n",
    "best_gaming_laptop.click()"
   ]
  },
  {
   "cell_type": "code",
   "execution_count": null,
   "id": "00e3fa97",
   "metadata": {},
   "outputs": [],
   "source": [
    "price=[]\n",
    "\n",
    "p=driver.find_elements(By.XPATH,'//div[@class=\"Spcs-details\"]/table/tbody/tr[8]/td[3]')\n",
    "for i in p:\n",
    "    price.append(i.text)\n"
   ]
  },
  {
   "cell_type": "code",
   "execution_count": null,
   "id": "859e2c24",
   "metadata": {},
   "outputs": [],
   "source": [
    "price"
   ]
  },
  {
   "cell_type": "code",
   "execution_count": null,
   "id": "8a1be41e",
   "metadata": {},
   "outputs": [],
   "source": [
    "processor=[]\n",
    "\n",
    "p=driver.find_elements(By.XPATH,'//div[@class=\"Spcs-details\"]/table/tbody/tr[2]/td[3]')\n",
    "for i in p:\n",
    "    processor.append(i.text)\n"
   ]
  },
  {
   "cell_type": "code",
   "execution_count": null,
   "id": "75fdda33",
   "metadata": {},
   "outputs": [],
   "source": [
    "processor"
   ]
  },
  {
   "cell_type": "code",
   "execution_count": null,
   "id": "f37d20ee",
   "metadata": {},
   "outputs": [],
   "source": [
    "display=[]\n",
    "\n",
    "d=driver.find_elements(By.XPATH,'//div[@class=\"Spcs-details\"]/table/tbody/tr[3]/td[3]')\n",
    "for i in d:\n",
    "    display.append(i.text.split('|')[0])\n"
   ]
  },
  {
   "cell_type": "code",
   "execution_count": null,
   "id": "7953d1a5",
   "metadata": {},
   "outputs": [],
   "source": [
    "display"
   ]
  },
  {
   "cell_type": "code",
   "execution_count": null,
   "id": "5b8a4472",
   "metadata": {},
   "outputs": [],
   "source": [
    "operating_sys=[]\n",
    "\n",
    "os=driver.find_elements(By.XPATH,'//div[@class=\"Spcs-details\"]/table/tbody/tr[4]/td[3]')\n",
    "for i in os:\n",
    "    operating_sys.append(i.text)\n"
   ]
  },
  {
   "cell_type": "code",
   "execution_count": null,
   "id": "24960a89",
   "metadata": {},
   "outputs": [],
   "source": [
    "operating_sys"
   ]
  },
  {
   "cell_type": "code",
   "execution_count": null,
   "id": "b413d99d",
   "metadata": {},
   "outputs": [],
   "source": [
    "memory=[]\n",
    "m=driver.find_elements(By.XPATH,'//div[@class=\"Spcs-details\"]/table/tbody/tr[5]/td[3]')\n",
    "for i in m:\n",
    "    memory.append(i.text)\n"
   ]
  },
  {
   "cell_type": "code",
   "execution_count": null,
   "id": "2976990b",
   "metadata": {},
   "outputs": [],
   "source": [
    "memory"
   ]
  },
  {
   "cell_type": "code",
   "execution_count": null,
   "id": "d879ac27",
   "metadata": {},
   "outputs": [],
   "source": [
    "graphics_pro=[]\n",
    "g_p=driver.find_elements(By.XPATH,'//div[@class=\"Spcs-details\"]/table/tbody/tr[6]/td[3]')\n",
    "for i in g_p:\n",
    "    graphics_pro.append(i.text)"
   ]
  },
  {
   "cell_type": "code",
   "execution_count": null,
   "id": "8fea2d42",
   "metadata": {},
   "outputs": [],
   "source": [
    "graphics_pro"
   ]
  },
  {
   "cell_type": "code",
   "execution_count": null,
   "id": "c35fb5e2",
   "metadata": {},
   "outputs": [],
   "source": [
    "product=[]\n",
    "p=driver.find_elements(By.XPATH,'//span[@class=\"datahreflink\"]/h3')\n",
    "for i in p:\n",
    "    product.append(i.text)"
   ]
  },
  {
   "cell_type": "code",
   "execution_count": null,
   "id": "ba4a5072",
   "metadata": {},
   "outputs": [],
   "source": [
    "product"
   ]
  },
  {
   "cell_type": "code",
   "execution_count": null,
   "id": "3d171d82",
   "metadata": {},
   "outputs": [],
   "source": [
    "print(len(product),len(graphics_pro),len(memory),len(display),len(operating_sys),len(processor),len(price))"
   ]
  },
  {
   "cell_type": "code",
   "execution_count": null,
   "id": "23cbd10f",
   "metadata": {},
   "outputs": [],
   "source": [
    "import pandas as pd\n",
    "df=pd.DataFrame({'PRODUCT_NAME':product,'PRICE ':price,'MEMORY':memory,'DISPLAY':display,'OPERATING_SYSTEM':operating_sys,'PROCESSOR':processor,'GRAPHICS_PROCESSOR':graphics_pro})"
   ]
  },
  {
   "cell_type": "code",
   "execution_count": null,
   "id": "dcd77c40",
   "metadata": {},
   "outputs": [],
   "source": [
    "df"
   ]
  },
  {
   "cell_type": "markdown",
   "id": "4b65e8b2",
   "metadata": {},
   "source": [
    "# scrap geospatial coordinates (latitude, longitude) of a city searched on google maps"
   ]
  },
  {
   "cell_type": "code",
   "execution_count": null,
   "id": "3d057ea9",
   "metadata": {},
   "outputs": [],
   "source": [
    "driver=webdriver.Chrome(r\"chromedriver.exe\")"
   ]
  },
  {
   "cell_type": "code",
   "execution_count": null,
   "id": "7798cc09",
   "metadata": {},
   "outputs": [],
   "source": [
    "driver.get('https://www.google.com/maps')"
   ]
  },
  {
   "cell_type": "code",
   "execution_count": null,
   "id": "9c340284",
   "metadata": {},
   "outputs": [],
   "source": [
    "search=driver.find_element(By.CLASS_NAME,\"mL3xi\")\n",
    "search.click()"
   ]
  },
  {
   "cell_type": "code",
   "execution_count": null,
   "id": "82c1ea8f",
   "metadata": {},
   "outputs": [],
   "source": [
    "input1=driver.find_element(By.XPATH,'/html/body/div[3]/div[9]/div[3]/div[1]/div[1]/div/div[2]/form/input[1]')\n",
    "input1.send_keys('Delhi')"
   ]
  },
  {
   "cell_type": "code",
   "execution_count": null,
   "id": "2440bb84",
   "metadata": {},
   "outputs": [],
   "source": [
    "delhi=driver.find_element(By.XPATH,'//div[@class=\"DgCNMb\"]')\n",
    "delhi.click()"
   ]
  },
  {
   "cell_type": "code",
   "execution_count": null,
   "id": "765e56f9",
   "metadata": {},
   "outputs": [],
   "source": [
    "from bs4 import BeautifulSoup"
   ]
  },
  {
   "cell_type": "code",
   "execution_count": null,
   "id": "f4e71a73",
   "metadata": {},
   "outputs": [],
   "source": [
    "import re"
   ]
  },
  {
   "cell_type": "code",
   "execution_count": null,
   "id": "e6fd09ef",
   "metadata": {},
   "outputs": [],
   "source": [
    "\n",
    "try:\n",
    "    url_string=driver.current_url\n",
    "    print(\"url_extracted :\",url_string)\n",
    "    lat_lang=re.findall(r'@(.*)data',url_string)\n",
    "except NoSuchElementException as e:\n",
    "    print(\"--\")"
   ]
  },
  {
   "cell_type": "code",
   "execution_count": null,
   "id": "30577300",
   "metadata": {},
   "outputs": [],
   "source": []
  },
  {
   "cell_type": "markdown",
   "id": "52638712",
   "metadata": {},
   "source": [
    "# Write a python program to scrape a data for all available Hostels from https://www.hostelworld.com/ in\n",
    "“London” location. we have to scrape hostel name, distance from city centre, ratings, total reviews, overall\n",
    "reviews, privates from price, dorms from price, facilities and property description. \n"
   ]
  },
  {
   "cell_type": "code",
   "execution_count": null,
   "id": "431b61bd",
   "metadata": {},
   "outputs": [],
   "source": [
    "#scrap the webpage\n",
    "driver=webdriver.Chrome(r\"chromedriver.exe\")\n",
    "driver.get('https://www.hostelworld.com/')\n"
   ]
  },
  {
   "cell_type": "code",
   "execution_count": null,
   "id": "18eace4c",
   "metadata": {},
   "outputs": [],
   "source": [
    "# give input as London\n",
    "input1=driver.find_element(By.CLASS_NAME,\"search-input\")\n",
    "input1.send_keys('London')"
   ]
  },
  {
   "cell_type": "code",
   "execution_count": null,
   "id": "8fbc1446",
   "metadata": {},
   "outputs": [],
   "source": [
    "# Scrap click button\n",
    "click=driver.find_element(By.XPATH,'/html/body/div[3]/div/div/div[2]/div[2]/div/div/div[4]/div/div[2]/div/div[1]/div/div/ul/li[2]/div/span')\n",
    "click.click()"
   ]
  },
  {
   "cell_type": "code",
   "execution_count": null,
   "id": "6830b6d2",
   "metadata": {},
   "outputs": [],
   "source": [
    "# now click on lets_go\n",
    "lets_go=driver.find_element(By.XPATH,'//*[@id=\"search-button\"]')\n",
    "lets_go.click()\n"
   ]
  },
  {
   "cell_type": "code",
   "execution_count": null,
   "id": "b5e66474",
   "metadata": {},
   "outputs": [],
   "source": [
    "# fetching Hotel Name\n",
    "hotel=[]\n",
    "h=driver.find_elements(By.XPATH,'//h2[@class=\"title title-6\"]')\n",
    "for i in h:\n",
    "    hotel.append(i.text)"
   ]
  },
  {
   "cell_type": "code",
   "execution_count": null,
   "id": "76efb152",
   "metadata": {},
   "outputs": [],
   "source": [
    "len(hotel)"
   ]
  },
  {
   "cell_type": "code",
   "execution_count": null,
   "id": "50b302f6",
   "metadata": {},
   "outputs": [],
   "source": [
    "# scrap distance of hotel from the city london\n",
    "distance=[]\n",
    "d=driver.find_elements(By.XPATH,'//span[@class=\"description\"]/span')\n",
    "for i in d:\n",
    "    distance.append(i.text)"
   ]
  },
  {
   "cell_type": "code",
   "execution_count": null,
   "id": "84194cfb",
   "metadata": {},
   "outputs": [],
   "source": [
    "len(distance)"
   ]
  },
  {
   "cell_type": "code",
   "execution_count": null,
   "id": "76b6059a",
   "metadata": {},
   "outputs": [],
   "source": [
    "# scrap all total review of hotel which available that time\n",
    "total_r=[]\n",
    "r=driver.find_elements(By.XPATH,'//div[@class=\"reviews\"]')\n",
    "for i in r:\n",
    "    total_r.append(i.text)"
   ]
  },
  {
   "cell_type": "code",
   "execution_count": null,
   "id": "99923064",
   "metadata": {},
   "outputs": [],
   "source": [
    "len(total_r)"
   ]
  },
  {
   "cell_type": "code",
   "execution_count": null,
   "id": "ae108a59",
   "metadata": {},
   "outputs": [],
   "source": [
    "# fetching all urls of hotels\n",
    "hotel_url=[]\n",
    "url=driver.find_elements(By.XPATH,'//h2[@class=\"title title-6\"]/a')\n",
    "for i in url:\n",
    "    hotel_url.append(i.get_attribute('href'))"
   ]
  },
  {
   "cell_type": "code",
   "execution_count": null,
   "id": "069a80f9",
   "metadata": {},
   "outputs": [],
   "source": [
    "len(hotel_url)"
   ]
  },
  {
   "cell_type": "code",
   "execution_count": null,
   "id": "4a0187b2",
   "metadata": {},
   "outputs": [],
   "source": [
    "# scrap rating of hotels\n",
    "rating=[]\n",
    "for i in hotel_url:\n",
    "    driver.get(i)\n",
    "    time.sleep(1)\n",
    "    try:\n",
    "        ratings=driver.find_element(By.XPATH,'//div[@class=\"score orange big\"]')\n",
    "        rating.append(ratings.text)\n",
    "    except NoSuchElementException as e:\n",
    "        rating.append('--')\n"
   ]
  },
  {
   "cell_type": "code",
   "execution_count": null,
   "id": "3c261c6d",
   "metadata": {},
   "outputs": [],
   "source": [
    "len(rating)"
   ]
  },
  {
   "cell_type": "code",
   "execution_count": null,
   "id": "413253e2",
   "metadata": {},
   "outputs": [],
   "source": [
    "# scrap all property details od hotels\n",
    "property_d=[]\n",
    "for i in hotel_url:\n",
    "    driver.get(i)\n",
    "    time.sleep(1)\n",
    "    try:\n",
    "        p=driver.find_element(By.XPATH,'//div[@class=\"content collapse-content\"]')\n",
    "        property_d.append(p.text)\n",
    "    except StaleElementReferenceException  as e:\n",
    "        property_d.append('--')\n"
   ]
  },
  {
   "cell_type": "code",
   "execution_count": null,
   "id": "188eb187",
   "metadata": {},
   "outputs": [],
   "source": [
    "len(property_d)"
   ]
  },
  {
   "cell_type": "code",
   "execution_count": null,
   "id": "2c90fb4e",
   "metadata": {},
   "outputs": [],
   "source": [
    "price=[]\n",
    "try:\n",
    "    p=driver.find_elements(By.XPATH,'//div[@class=\"price title-5\"]')\n",
    "    for i in p:\n",
    "        print(p)\n",
    "except NoSuchElementException as e:\n",
    "    price.append(\"--\")"
   ]
  },
  {
   "cell_type": "code",
   "execution_count": null,
   "id": "a55b2afb",
   "metadata": {},
   "outputs": [],
   "source": [
    "p_price=[]\n",
    "try:\n",
    "    price=driver.find_elements(By.XPATH,'//*[@id=\"__layout\"]/div/div[2]/div[4]/div/div/div[4]/div[4]/a[1]/div[1]/div')\n",
    "    for i in price:\n",
    "        p_price.append(i.text)\n",
    "except NoSuchElementException as e:\n",
    "    p_price.append(\"--\")"
   ]
  },
  {
   "cell_type": "code",
   "execution_count": null,
   "id": "3ac03973",
   "metadata": {},
   "outputs": [],
   "source": [
    "len(p_price)"
   ]
  },
  {
   "cell_type": "code",
   "execution_count": 132,
   "id": "279696d3",
   "metadata": {},
   "outputs": [
    {
     "data": {
      "text/html": [
       "<div>\n",
       "<style scoped>\n",
       "    .dataframe tbody tr th:only-of-type {\n",
       "        vertical-align: middle;\n",
       "    }\n",
       "\n",
       "    .dataframe tbody tr th {\n",
       "        vertical-align: top;\n",
       "    }\n",
       "\n",
       "    .dataframe thead th {\n",
       "        text-align: right;\n",
       "    }\n",
       "</style>\n",
       "<table border=\"1\" class=\"dataframe\">\n",
       "  <thead>\n",
       "    <tr style=\"text-align: right;\">\n",
       "      <th></th>\n",
       "      <th>HOTEL_NAME</th>\n",
       "      <th>DISTANCE</th>\n",
       "      <th>RATING</th>\n",
       "      <th>TOTAL_REVIEW</th>\n",
       "      <th>PROPERTY_DESC</th>\n",
       "      <th>HOTEL_URL</th>\n",
       "    </tr>\n",
       "  </thead>\n",
       "  <tbody>\n",
       "    <tr>\n",
       "      <th>0</th>\n",
       "      <td>Wombat's City Hostel London</td>\n",
       "      <td>- 3.6km from city centre</td>\n",
       "      <td>9.0</td>\n",
       "      <td>14906 Total Reviews</td>\n",
       "      <td>A safe haven in the middle of the metropolis: ...</td>\n",
       "      <td>https://www.hostelworld.com/pwa/hosteldetails....</td>\n",
       "    </tr>\n",
       "    <tr>\n",
       "      <th>1</th>\n",
       "      <td>St Christopher's Village</td>\n",
       "      <td>- 1.8km from city centre</td>\n",
       "      <td>7.9</td>\n",
       "      <td>12155 Total Reviews</td>\n",
       "      <td>St Christopher's Inn at The Village in London ...</td>\n",
       "      <td>https://www.hostelworld.com/pwa/hosteldetails....</td>\n",
       "    </tr>\n",
       "    <tr>\n",
       "      <th>2</th>\n",
       "      <td>Urbany Hostel London</td>\n",
       "      <td>- 5.4km from city centre</td>\n",
       "      <td>9.4</td>\n",
       "      <td>781 Total Reviews</td>\n",
       "      <td>Welcome to Urbany Hostel London, our first int...</td>\n",
       "      <td>https://www.hostelworld.com/pwa/hosteldetails....</td>\n",
       "    </tr>\n",
       "    <tr>\n",
       "      <th>3</th>\n",
       "      <td>NX London Hostel</td>\n",
       "      <td>- 6.1km from city centre</td>\n",
       "      <td>8.3</td>\n",
       "      <td>1886 Total Reviews</td>\n",
       "      <td>Welcome to NX London Hostel!\\n\\nPLEASE READ IN...</td>\n",
       "      <td>https://www.hostelworld.com/pwa/hosteldetails....</td>\n",
       "    </tr>\n",
       "    <tr>\n",
       "      <th>4</th>\n",
       "      <td>Generator London</td>\n",
       "      <td>- 3km from city centre</td>\n",
       "      <td>7.5</td>\n",
       "      <td>7504 Total Reviews</td>\n",
       "      <td>Generator London is a design hotel-hostel loca...</td>\n",
       "      <td>https://www.hostelworld.com/pwa/hosteldetails....</td>\n",
       "    </tr>\n",
       "    <tr>\n",
       "      <th>5</th>\n",
       "      <td>Safestay London Elephant &amp; Castle</td>\n",
       "      <td>- 1.7km from city centre</td>\n",
       "      <td>7.5</td>\n",
       "      <td>4959 Total Reviews</td>\n",
       "      <td>Safestay at Elephant &amp; Castle is ideal if you ...</td>\n",
       "      <td>https://www.hostelworld.com/pwa/hosteldetails....</td>\n",
       "    </tr>\n",
       "    <tr>\n",
       "      <th>6</th>\n",
       "      <td>Phoenix Hostel</td>\n",
       "      <td>- 4.2km from city centre</td>\n",
       "      <td>7.6</td>\n",
       "      <td>4129 Total Reviews</td>\n",
       "      <td>The Phoenix Bar &amp; Hostel, housed in a homely E...</td>\n",
       "      <td>https://www.hostelworld.com/pwa/hosteldetails....</td>\n",
       "    </tr>\n",
       "    <tr>\n",
       "      <th>7</th>\n",
       "      <td>Safestay London Kensington Holland Park</td>\n",
       "      <td>- 5.8km from city centre</td>\n",
       "      <td>7.1</td>\n",
       "      <td>1529 Total Reviews</td>\n",
       "      <td>Safestay Holland Park\\n\\nSafestay Holland Park...</td>\n",
       "      <td>https://www.hostelworld.com/pwa/hosteldetails....</td>\n",
       "    </tr>\n",
       "    <tr>\n",
       "      <th>8</th>\n",
       "      <td>No.8 Seven Sisters</td>\n",
       "      <td>- 9km from city centre</td>\n",
       "      <td>--</td>\n",
       "      <td>4011 Total Reviews</td>\n",
       "      <td>For Great Facilities, Comfort &amp; Affordability ...</td>\n",
       "      <td>https://www.hostelworld.com/pwa/hosteldetails....</td>\n",
       "    </tr>\n",
       "    <tr>\n",
       "      <th>9</th>\n",
       "      <td>Queen Elizabeth Chelsea</td>\n",
       "      <td>- 5.7km from city centre</td>\n",
       "      <td>7.4</td>\n",
       "      <td>3481 Total Reviews</td>\n",
       "      <td>PLEASE NOTE WE ONLY ACCEPT GUESTS FROM THE AGE...</td>\n",
       "      <td>https://www.hostelworld.com/pwa/hosteldetails....</td>\n",
       "    </tr>\n",
       "    <tr>\n",
       "      <th>10</th>\n",
       "      <td>St Christopher's Inn - London Bridge</td>\n",
       "      <td>- 1.8km from city centre</td>\n",
       "      <td>8.0</td>\n",
       "      <td>3506 Total Reviews</td>\n",
       "      <td>Base yourself in the electric area of London B...</td>\n",
       "      <td>https://www.hostelworld.com/pwa/hosteldetails....</td>\n",
       "    </tr>\n",
       "    <tr>\n",
       "      <th>11</th>\n",
       "      <td>St Christopher's Hammersmith</td>\n",
       "      <td>- 7.5km from city centre</td>\n",
       "      <td>7.7</td>\n",
       "      <td>4244 Total Reviews</td>\n",
       "      <td>Property was great atmosphere was loud and a l...</td>\n",
       "      <td>https://www.hostelworld.com/pwa/hosteldetails....</td>\n",
       "    </tr>\n",
       "    <tr>\n",
       "      <th>12</th>\n",
       "      <td>International Students House</td>\n",
       "      <td>- 3.3km from city centre</td>\n",
       "      <td>9.3</td>\n",
       "      <td>1036 Total Reviews</td>\n",
       "      <td>International Students House provides affordab...</td>\n",
       "      <td>https://www.hostelworld.com/pwa/hosteldetails....</td>\n",
       "    </tr>\n",
       "    <tr>\n",
       "      <th>13</th>\n",
       "      <td>St Christopher's Camden</td>\n",
       "      <td>- 4.3km from city centre</td>\n",
       "      <td>7.0</td>\n",
       "      <td>4035 Total Reviews</td>\n",
       "      <td>Find our Camden hostel in London's north, smac...</td>\n",
       "      <td>https://www.hostelworld.com/pwa/hosteldetails....</td>\n",
       "    </tr>\n",
       "    <tr>\n",
       "      <th>14</th>\n",
       "      <td>St Christopher's Greenwich</td>\n",
       "      <td>- 7.6km from city centre</td>\n",
       "      <td>7.5</td>\n",
       "      <td>3350 Total Reviews</td>\n",
       "      <td>Discover South London's rich history in the ci...</td>\n",
       "      <td>https://www.hostelworld.com/pwa/hosteldetails....</td>\n",
       "    </tr>\n",
       "    <tr>\n",
       "      <th>15</th>\n",
       "      <td>Bell House Hostel</td>\n",
       "      <td>- 4.2km from city centre</td>\n",
       "      <td>7.8</td>\n",
       "      <td>61 Total Reviews</td>\n",
       "      <td>Boasting a bar and a shared lounge, Bell House...</td>\n",
       "      <td>https://www.hostelworld.com/pwa/hosteldetails....</td>\n",
       "    </tr>\n",
       "    <tr>\n",
       "      <th>16</th>\n",
       "      <td>Saint James Backpackers</td>\n",
       "      <td>- 5.5km from city centre</td>\n",
       "      <td>7.5</td>\n",
       "      <td>1884 Total Reviews</td>\n",
       "      <td>We are located in central London - just 5 minu...</td>\n",
       "      <td>https://www.hostelworld.com/pwa/hosteldetails....</td>\n",
       "    </tr>\n",
       "    <tr>\n",
       "      <th>17</th>\n",
       "      <td>PubLove @ The Steam Engine, Waterloo</td>\n",
       "      <td>- 0.5km from city centre</td>\n",
       "      <td>8.0</td>\n",
       "      <td>394 Total Reviews</td>\n",
       "      <td>The heart &amp; soul of London backpacking\\nPull u...</td>\n",
       "      <td>https://www.hostelworld.com/pwa/hosteldetails....</td>\n",
       "    </tr>\n",
       "    <tr>\n",
       "      <th>18</th>\n",
       "      <td>St Christopher's Shepherds Bush</td>\n",
       "      <td>- 7km from city centre</td>\n",
       "      <td>7.5</td>\n",
       "      <td>772 Total Reviews</td>\n",
       "      <td>St Christopher's Inn Shepherds Bush gives trav...</td>\n",
       "      <td>https://www.hostelworld.com/pwa/hosteldetails....</td>\n",
       "    </tr>\n",
       "    <tr>\n",
       "      <th>19</th>\n",
       "      <td>Book a Bed Hostels</td>\n",
       "      <td>- 6.9km from city centre</td>\n",
       "      <td>7.4</td>\n",
       "      <td>1255 Total Reviews</td>\n",
       "      <td>Welcome to Venture Hostel.Venture Hostel is a ...</td>\n",
       "      <td>https://www.hostelworld.com/pwa/hosteldetails....</td>\n",
       "    </tr>\n",
       "    <tr>\n",
       "      <th>20</th>\n",
       "      <td>Selina Camden</td>\n",
       "      <td>- 5.5km from city centre</td>\n",
       "      <td>8.9</td>\n",
       "      <td>50 Total Reviews</td>\n",
       "      <td>Among underground music venues, innovative mus...</td>\n",
       "      <td>https://www.hostelworld.com/pwa/hosteldetails....</td>\n",
       "    </tr>\n",
       "    <tr>\n",
       "      <th>21</th>\n",
       "      <td>PubLove @ The Crown, Battersea</td>\n",
       "      <td>- 4.7km from city centre</td>\n",
       "      <td>7.5</td>\n",
       "      <td>301 Total Reviews</td>\n",
       "      <td>Do London like a local.\\nStay just outside the...</td>\n",
       "      <td>https://www.hostelworld.com/pwa/hosteldetails....</td>\n",
       "    </tr>\n",
       "    <tr>\n",
       "      <th>22</th>\n",
       "      <td>Kensal Green Backpackers</td>\n",
       "      <td>- 8.2km from city centre</td>\n",
       "      <td>--</td>\n",
       "      <td>3710 Total Reviews</td>\n",
       "      <td>Kensal Green Backpackers is a legendary hostel...</td>\n",
       "      <td>https://www.hostelworld.com/pwa/hosteldetails....</td>\n",
       "    </tr>\n",
       "    <tr>\n",
       "      <th>23</th>\n",
       "      <td>Hootananny Hostel</td>\n",
       "      <td>- 5.1km from city centre</td>\n",
       "      <td>7.6</td>\n",
       "      <td>1511 Total Reviews</td>\n",
       "      <td>Hootananny is a lively hostel with spacious ro...</td>\n",
       "      <td>https://www.hostelworld.com/pwa/hosteldetails....</td>\n",
       "    </tr>\n",
       "    <tr>\n",
       "      <th>24</th>\n",
       "      <td>Hostelle London</td>\n",
       "      <td>- 2.4km from city centre</td>\n",
       "      <td>8.7</td>\n",
       "      <td>11 Total Reviews</td>\n",
       "      <td>Hostelle is the first and only all-female host...</td>\n",
       "      <td>https://www.hostelworld.com/pwa/hosteldetails....</td>\n",
       "    </tr>\n",
       "    <tr>\n",
       "      <th>25</th>\n",
       "      <td>PubLove @ The White Ferry, Victoria</td>\n",
       "      <td>- 3.2km from city centre</td>\n",
       "      <td>7.3</td>\n",
       "      <td>338 Total Reviews</td>\n",
       "      <td>Walk to the river, turn left, and just keep wa...</td>\n",
       "      <td>https://www.hostelworld.com/pwa/hosteldetails....</td>\n",
       "    </tr>\n",
       "    <tr>\n",
       "      <th>26</th>\n",
       "      <td>Elmwood Hotel</td>\n",
       "      <td>- 0.7km from city centre</td>\n",
       "      <td>7.7</td>\n",
       "      <td>128 Total Reviews</td>\n",
       "      <td>Great location and extremely clean. Rooms tiny...</td>\n",
       "      <td>https://www.hostelworld.com/pwa/hosteldetails....</td>\n",
       "    </tr>\n",
       "    <tr>\n",
       "      <th>27</th>\n",
       "      <td>London Waterloo Hostel</td>\n",
       "      <td>- 1.6km from city centre</td>\n",
       "      <td>--</td>\n",
       "      <td>2534 Total Reviews</td>\n",
       "      <td>We have the honor of being the closest dedicat...</td>\n",
       "      <td>https://www.hostelworld.com/pwa/hosteldetails....</td>\n",
       "    </tr>\n",
       "    <tr>\n",
       "      <th>28</th>\n",
       "      <td>PubLove @ The Rose &amp; Crown</td>\n",
       "      <td>- 4.3km from city centre</td>\n",
       "      <td>7.5</td>\n",
       "      <td>189 Total Reviews</td>\n",
       "      <td>Food &amp; culture lovers, assemble!\\nThe Rose &amp; C...</td>\n",
       "      <td>https://www.hostelworld.com/pwa/hosteldetails....</td>\n",
       "    </tr>\n",
       "    <tr>\n",
       "      <th>29</th>\n",
       "      <td>Tony's House Hotel</td>\n",
       "      <td>- 3.4km from city centre</td>\n",
       "      <td>8.2</td>\n",
       "      <td>422 Total Reviews</td>\n",
       "      <td>Central London Hotel Accommodation situated in...</td>\n",
       "      <td>https://www.hostelworld.com/pwa/hosteldetails....</td>\n",
       "    </tr>\n",
       "  </tbody>\n",
       "</table>\n",
       "</div>"
      ],
      "text/plain": [
       "                                 HOTEL_NAME                  DISTANCE RATING  \\\n",
       "0               Wombat's City Hostel London  - 3.6km from city centre    9.0   \n",
       "1                  St Christopher's Village  - 1.8km from city centre    7.9   \n",
       "2                      Urbany Hostel London  - 5.4km from city centre    9.4   \n",
       "3                          NX London Hostel  - 6.1km from city centre    8.3   \n",
       "4                          Generator London    - 3km from city centre    7.5   \n",
       "5         Safestay London Elephant & Castle  - 1.7km from city centre    7.5   \n",
       "6                            Phoenix Hostel  - 4.2km from city centre    7.6   \n",
       "7   Safestay London Kensington Holland Park  - 5.8km from city centre    7.1   \n",
       "8                        No.8 Seven Sisters    - 9km from city centre     --   \n",
       "9                   Queen Elizabeth Chelsea  - 5.7km from city centre    7.4   \n",
       "10     St Christopher's Inn - London Bridge  - 1.8km from city centre    8.0   \n",
       "11             St Christopher's Hammersmith  - 7.5km from city centre    7.7   \n",
       "12             International Students House  - 3.3km from city centre    9.3   \n",
       "13                  St Christopher's Camden  - 4.3km from city centre    7.0   \n",
       "14               St Christopher's Greenwich  - 7.6km from city centre    7.5   \n",
       "15                        Bell House Hostel  - 4.2km from city centre    7.8   \n",
       "16                  Saint James Backpackers  - 5.5km from city centre    7.5   \n",
       "17     PubLove @ The Steam Engine, Waterloo  - 0.5km from city centre    8.0   \n",
       "18          St Christopher's Shepherds Bush    - 7km from city centre    7.5   \n",
       "19                       Book a Bed Hostels  - 6.9km from city centre    7.4   \n",
       "20                            Selina Camden  - 5.5km from city centre    8.9   \n",
       "21           PubLove @ The Crown, Battersea  - 4.7km from city centre    7.5   \n",
       "22                 Kensal Green Backpackers  - 8.2km from city centre     --   \n",
       "23                        Hootananny Hostel  - 5.1km from city centre    7.6   \n",
       "24                          Hostelle London  - 2.4km from city centre    8.7   \n",
       "25      PubLove @ The White Ferry, Victoria  - 3.2km from city centre    7.3   \n",
       "26                            Elmwood Hotel  - 0.7km from city centre    7.7   \n",
       "27                   London Waterloo Hostel  - 1.6km from city centre     --   \n",
       "28               PubLove @ The Rose & Crown  - 4.3km from city centre    7.5   \n",
       "29                       Tony's House Hotel  - 3.4km from city centre    8.2   \n",
       "\n",
       "           TOTAL_REVIEW                                      PROPERTY_DESC  \\\n",
       "0   14906 Total Reviews  A safe haven in the middle of the metropolis: ...   \n",
       "1   12155 Total Reviews  St Christopher's Inn at The Village in London ...   \n",
       "2     781 Total Reviews  Welcome to Urbany Hostel London, our first int...   \n",
       "3    1886 Total Reviews  Welcome to NX London Hostel!\\n\\nPLEASE READ IN...   \n",
       "4    7504 Total Reviews  Generator London is a design hotel-hostel loca...   \n",
       "5    4959 Total Reviews  Safestay at Elephant & Castle is ideal if you ...   \n",
       "6    4129 Total Reviews  The Phoenix Bar & Hostel, housed in a homely E...   \n",
       "7    1529 Total Reviews  Safestay Holland Park\\n\\nSafestay Holland Park...   \n",
       "8    4011 Total Reviews  For Great Facilities, Comfort & Affordability ...   \n",
       "9    3481 Total Reviews  PLEASE NOTE WE ONLY ACCEPT GUESTS FROM THE AGE...   \n",
       "10   3506 Total Reviews  Base yourself in the electric area of London B...   \n",
       "11   4244 Total Reviews  Property was great atmosphere was loud and a l...   \n",
       "12   1036 Total Reviews  International Students House provides affordab...   \n",
       "13   4035 Total Reviews  Find our Camden hostel in London's north, smac...   \n",
       "14   3350 Total Reviews  Discover South London's rich history in the ci...   \n",
       "15     61 Total Reviews  Boasting a bar and a shared lounge, Bell House...   \n",
       "16   1884 Total Reviews  We are located in central London - just 5 minu...   \n",
       "17    394 Total Reviews  The heart & soul of London backpacking\\nPull u...   \n",
       "18    772 Total Reviews  St Christopher's Inn Shepherds Bush gives trav...   \n",
       "19   1255 Total Reviews  Welcome to Venture Hostel.Venture Hostel is a ...   \n",
       "20     50 Total Reviews  Among underground music venues, innovative mus...   \n",
       "21    301 Total Reviews  Do London like a local.\\nStay just outside the...   \n",
       "22   3710 Total Reviews  Kensal Green Backpackers is a legendary hostel...   \n",
       "23   1511 Total Reviews  Hootananny is a lively hostel with spacious ro...   \n",
       "24     11 Total Reviews  Hostelle is the first and only all-female host...   \n",
       "25    338 Total Reviews  Walk to the river, turn left, and just keep wa...   \n",
       "26    128 Total Reviews  Great location and extremely clean. Rooms tiny...   \n",
       "27   2534 Total Reviews  We have the honor of being the closest dedicat...   \n",
       "28    189 Total Reviews  Food & culture lovers, assemble!\\nThe Rose & C...   \n",
       "29    422 Total Reviews  Central London Hotel Accommodation situated in...   \n",
       "\n",
       "                                            HOTEL_URL  \n",
       "0   https://www.hostelworld.com/pwa/hosteldetails....  \n",
       "1   https://www.hostelworld.com/pwa/hosteldetails....  \n",
       "2   https://www.hostelworld.com/pwa/hosteldetails....  \n",
       "3   https://www.hostelworld.com/pwa/hosteldetails....  \n",
       "4   https://www.hostelworld.com/pwa/hosteldetails....  \n",
       "5   https://www.hostelworld.com/pwa/hosteldetails....  \n",
       "6   https://www.hostelworld.com/pwa/hosteldetails....  \n",
       "7   https://www.hostelworld.com/pwa/hosteldetails....  \n",
       "8   https://www.hostelworld.com/pwa/hosteldetails....  \n",
       "9   https://www.hostelworld.com/pwa/hosteldetails....  \n",
       "10  https://www.hostelworld.com/pwa/hosteldetails....  \n",
       "11  https://www.hostelworld.com/pwa/hosteldetails....  \n",
       "12  https://www.hostelworld.com/pwa/hosteldetails....  \n",
       "13  https://www.hostelworld.com/pwa/hosteldetails....  \n",
       "14  https://www.hostelworld.com/pwa/hosteldetails....  \n",
       "15  https://www.hostelworld.com/pwa/hosteldetails....  \n",
       "16  https://www.hostelworld.com/pwa/hosteldetails....  \n",
       "17  https://www.hostelworld.com/pwa/hosteldetails....  \n",
       "18  https://www.hostelworld.com/pwa/hosteldetails....  \n",
       "19  https://www.hostelworld.com/pwa/hosteldetails....  \n",
       "20  https://www.hostelworld.com/pwa/hosteldetails....  \n",
       "21  https://www.hostelworld.com/pwa/hosteldetails....  \n",
       "22  https://www.hostelworld.com/pwa/hosteldetails....  \n",
       "23  https://www.hostelworld.com/pwa/hosteldetails....  \n",
       "24  https://www.hostelworld.com/pwa/hosteldetails....  \n",
       "25  https://www.hostelworld.com/pwa/hosteldetails....  \n",
       "26  https://www.hostelworld.com/pwa/hosteldetails....  \n",
       "27  https://www.hostelworld.com/pwa/hosteldetails....  \n",
       "28  https://www.hostelworld.com/pwa/hosteldetails....  \n",
       "29  https://www.hostelworld.com/pwa/hosteldetails....  "
      ]
     },
     "execution_count": 132,
     "metadata": {},
     "output_type": "execute_result"
    }
   ],
   "source": [
    "import pandas as pd\n",
    "df=pd.DataFrame({'HOTEL_NAME':hotel,'DISTANCE':distance,'RATING':rating,'TOTAL_REVIEW':total_r,'PROPERTY_DESC':property_d,'HOTEL_URL':hotel_url})\n",
    "df"
   ]
  },
  {
   "cell_type": "code",
   "execution_count": null,
   "id": "9028658c",
   "metadata": {},
   "outputs": [],
   "source": []
  }
 ],
 "metadata": {
  "kernelspec": {
   "display_name": "Python 3 (ipykernel)",
   "language": "python",
   "name": "python3"
  },
  "language_info": {
   "codemirror_mode": {
    "name": "ipython",
    "version": 3
   },
   "file_extension": ".py",
   "mimetype": "text/x-python",
   "name": "python",
   "nbconvert_exporter": "python",
   "pygments_lexer": "ipython3",
   "version": "3.9.13"
  }
 },
 "nbformat": 4,
 "nbformat_minor": 5
}
