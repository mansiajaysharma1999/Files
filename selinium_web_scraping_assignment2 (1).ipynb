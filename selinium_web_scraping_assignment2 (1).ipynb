{
 "cells": [
  {
   "cell_type": "code",
   "execution_count": null,
   "id": "097d2b94",
   "metadata": {},
   "outputs": [],
   "source": [
    "import selenium"
   ]
  },
  {
   "cell_type": "code",
   "execution_count": null,
   "id": "dbb683f0",
   "metadata": {},
   "outputs": [],
   "source": [
    "from selenium import webdriver\n",
    "from selenium.webdriver.common.by import By\n",
    "import pandas as pd\n",
    "import warnings\n",
    "warnings.filterwarnings(\"ignore\")\n",
    "import time"
   ]
  },
  {
   "cell_type": "markdown",
   "id": "00240a23",
   "metadata": {},
   "source": [
    "# scrape data for “Data Analyst” Job position in “Bangalore” location from the webpage 'https://www.naukri.com/'    \n",
    "\n",
    "We  have to scrape first 10 jobs data,\n",
    "a) job-title, job-location,\n",
    "b) company_name,\n",
    "c) experience_required. \n"
   ]
  },
  {
   "cell_type": "code",
   "execution_count": null,
   "id": "9055e421",
   "metadata": {},
   "outputs": [],
   "source": [
    "driver=webdriver.Chrome(r\"C:\\Users\\A\\Desktop\\mansi\\New folder\\chromedriver_win32.zip\\chromedriver.exe\")\n",
    "driver=webdriver.Chrome(r\"chromedriver.exe\")"
   ]
  },
  {
   "cell_type": "code",
   "execution_count": null,
   "id": "c2d9364e",
   "metadata": {},
   "outputs": [],
   "source": [
    "driver.get('https://www.naukri.com/')"
   ]
  },
  {
   "cell_type": "code",
   "execution_count": null,
   "id": "328d2496",
   "metadata": {},
   "outputs": [],
   "source": [
    "# Enter the Job_Title Name:\n",
    "title=driver.find_element(By.CLASS_NAME,\"suggestor-input \")\n",
    "title.send_keys('Data Analyst')"
   ]
  },
  {
   "cell_type": "code",
   "execution_count": null,
   "id": "00cb610e",
   "metadata": {},
   "outputs": [],
   "source": [
    "#Enter the Location Name:\n",
    "location=driver.find_element(By.XPATH,'/html/body/div[1]/div[7]/div/div/div[5]/div/div/div/div[1]/div/input')\n",
    "location.send_keys('Bangalore')"
   ]
  },
  {
   "cell_type": "code",
   "execution_count": null,
   "id": "f28f97ee",
   "metadata": {},
   "outputs": [],
   "source": [
    "#click search button:\n",
    "search=driver.find_element(By.CLASS_NAME,\"qsbSubmit\")\n",
    "search.click()"
   ]
  },
  {
   "cell_type": "code",
   "execution_count": null,
   "id": "4c957758",
   "metadata": {},
   "outputs": [],
   "source": [
    "# scrap the jobs title\n",
    "job_title=[]\n",
    "title=driver.find_elements(By.XPATH,'//a[@class=\"title ellipsis\"]')\n",
    "for i in title[0:10]:\n",
    "    job_title.append(i.text)"
   ]
  },
  {
   "cell_type": "code",
   "execution_count": null,
   "id": "9bccb592",
   "metadata": {},
   "outputs": [],
   "source": [
    "#scrap the locations-->company_name-->experience_required\n",
    "location=[]\n",
    "t=driver.find_elements(By.XPATH,'//span[@class=\"ellipsis fleft locWdth\"]')\n",
    "for i in t[0:10]:\n",
    "    location.append(i.text)\n",
    "    \n",
    "\n",
    "company=[]\n",
    "c=driver.find_elements(By.XPATH,'//a[@class=\"subTitle ellipsis fleft\"]')\n",
    "for i in c[0:10]:\n",
    "    company.append(i.text)\n",
    "    \n",
    "exp=[]\n",
    "e=driver.find_elements(By.XPATH,'//span[@class=\"ellipsis fleft expwdth\"]')\n",
    "for i in e[0:10]:\n",
    "    exp.append(i.text)"
   ]
  },
  {
   "cell_type": "code",
   "execution_count": null,
   "id": "a4856629",
   "metadata": {},
   "outputs": [],
   "source": [
    "job_title"
   ]
  },
  {
   "cell_type": "code",
   "execution_count": null,
   "id": "327f6104",
   "metadata": {},
   "outputs": [],
   "source": [
    "location"
   ]
  },
  {
   "cell_type": "code",
   "execution_count": null,
   "id": "bb391842",
   "metadata": {},
   "outputs": [],
   "source": [
    "company"
   ]
  },
  {
   "cell_type": "code",
   "execution_count": null,
   "id": "e91b350c",
   "metadata": {},
   "outputs": [],
   "source": [
    "exp"
   ]
  },
  {
   "cell_type": "code",
   "execution_count": null,
   "id": "3a9e82a6",
   "metadata": {},
   "outputs": [],
   "source": [
    "#make a DataFrame\n",
    "df=pd.DataFrame({'JOBS_TITLE':job_title,'LOCATION':location,'EXP_REQUIRED':exp})\n",
    "df"
   ]
  },
  {
   "cell_type": "code",
   "execution_count": null,
   "id": "2c5593c2",
   "metadata": {},
   "outputs": [],
   "source": []
  },
  {
   "cell_type": "markdown",
   "id": "62f78743",
   "metadata": {},
   "source": [
    "# #scraping data for DataScientist from naukri.com\n",
    "\n",
    "#We have to scrap,--by entering title--Datascientist,&location--Bangalore\n",
    "\n",
    "-->Job_title\n",
    "\n",
    "-->Job_location\n",
    "\n",
    "-->Company_name"
   ]
  },
  {
   "cell_type": "code",
   "execution_count": null,
   "id": "50603a7d",
   "metadata": {},
   "outputs": [],
   "source": [
    "driver=webdriver.Chrome(r\"C:\\Users\\A\\Desktop\\mansi\\New folder\\chromedriver_win32.zip\\chromedriver.exe\")\n"
   ]
  },
  {
   "cell_type": "code",
   "execution_count": null,
   "id": "5f95d70a",
   "metadata": {},
   "outputs": [],
   "source": [
    "driver=webdriver.Chrome(r\"chromedriver.exe\")"
   ]
  },
  {
   "cell_type": "code",
   "execution_count": null,
   "id": "c70433cd",
   "metadata": {},
   "outputs": [],
   "source": [
    "#Get the webpage:\n",
    "driver.get('https://www.naukri.com/')"
   ]
  },
  {
   "cell_type": "code",
   "execution_count": null,
   "id": "3c5af716",
   "metadata": {},
   "outputs": [],
   "source": [
    "#Entering the name of job_title:\n",
    "designation=driver.find_element(By.CLASS_NAME,\"suggestor-input\")\n",
    "designation.send_keys('Data Scientist')"
   ]
  },
  {
   "cell_type": "code",
   "execution_count": null,
   "id": "603d2696",
   "metadata": {},
   "outputs": [],
   "source": [
    "#Enter the Location name:\n",
    "location=driver.find_element(By.XPATH,\"/html/body/div[1]/div[7]/div/div/div[5]/div/div/div/div[1]/div/input\")\n",
    "location.send_keys('Bangalore')"
   ]
  },
  {
   "cell_type": "code",
   "execution_count": null,
   "id": "40f3e55b",
   "metadata": {},
   "outputs": [],
   "source": [
    "#click in search button:\n",
    "search=driver.find_element(By.CLASS_NAME,\"qsbSubmit\")\n",
    "search.click()"
   ]
  },
  {
   "cell_type": "code",
   "execution_count": null,
   "id": "b3d03dfb",
   "metadata": {},
   "outputs": [],
   "source": [
    "job_title=[]\n",
    "job_location=[]\n",
    "company_name=[]\n",
    "\n",
    "#scraping jobs\n",
    "title=driver.find_elements(By.XPATH,'//a[@class=\"title ellipsis\"]')\n",
    "for i in title[0:10]:\n",
    "    job_title.append(i.text)\n",
    "    \n",
    "#scraping location\n",
    "location=driver.find_elements(By.XPATH,'//span[@class=\"ellipsis fleft locWdth\"]')\n",
    "for i in location[0:10]:\n",
    "    job_location.append(i.text)\n",
    "    \n",
    "#scraping company  name\n",
    "name=driver.find_elements(By.XPATH,'//a[@class=\"subTitle ellipsis fleft\"]')\n",
    "for i in name[0:10]:\n",
    "    company_name.append(i.text)\n",
    "    "
   ]
  },
  {
   "cell_type": "code",
   "execution_count": null,
   "id": "bce01e60",
   "metadata": {},
   "outputs": [],
   "source": [
    "#print length:\n",
    "print(len(job_title),len(job_location),len(company_name))"
   ]
  },
  {
   "cell_type": "code",
   "execution_count": null,
   "id": "9f22a2f4",
   "metadata": {},
   "outputs": [],
   "source": [
    "#make a DataFrame:\n",
    "df=pd.DataFrame({'Job_Title':job_title,'Job_Location':job_location,'Company_Name':company_name})\n",
    "df"
   ]
  },
  {
   "cell_type": "markdown",
   "id": "9faaac80",
   "metadata": {},
   "source": [
    "# we have to use the location and salary filter.\n",
    "\n",
    "-->we have to scrape data for “Data Scientist” designation for first 10 job results.\n",
    "\n",
    "-->we have to scrape the \"job-title\", \"job-location\", \"company name\", \"experience required\".\n",
    "\n",
    "-->The location filter to be used is “Delhi/NCR”. The salary filter to be used is “3-6” lakhs"
   ]
  },
  {
   "cell_type": "code",
   "execution_count": null,
   "id": "96882a8e",
   "metadata": {},
   "outputs": [],
   "source": [
    "driver=webdriver.Chrome(r\"C:\\Users\\A\\Desktop\\mansi\\New folder\\chromedriver_win32.zip\\chromedriver.exe\")\n"
   ]
  },
  {
   "cell_type": "code",
   "execution_count": null,
   "id": "3d1b2492",
   "metadata": {},
   "outputs": [],
   "source": [
    "driver=webdriver.Chrome(r\"chromedriver.exe\")"
   ]
  },
  {
   "cell_type": "code",
   "execution_count": null,
   "id": "d3af8dbf",
   "metadata": {},
   "outputs": [],
   "source": [
    "#scrap the web page\n",
    "driver.get('https://www.shine.com/')"
   ]
  },
  {
   "cell_type": "code",
   "execution_count": null,
   "id": "b97acc45",
   "metadata": {},
   "outputs": [],
   "source": [
    "#click on designation\n",
    "designation=driver.find_element(By.XPATH,'/html/body/div[1]/header[2]/div[2]/div[1]/input')\n",
    "designation.click()"
   ]
  },
  {
   "cell_type": "code",
   "execution_count": null,
   "id": "3214272e",
   "metadata": {},
   "outputs": [],
   "source": [
    "# now enter job title\n",
    "j=driver.find_element(By.XPATH,'/html/body/div[1]/div[4]/div/div[2]/div[2]/div/form/div/div[1]/ul/li[1]/div/input')\n",
    "j.send_keys('Datascientist')"
   ]
  },
  {
   "cell_type": "code",
   "execution_count": null,
   "id": "0ec0a428",
   "metadata": {},
   "outputs": [],
   "source": [
    "# click on job search button\n",
    "search_jobs=driver.find_element(By.XPATH,'/html/body/div[1]/div[4]/div/div[2]/div[2]/div/form/div/div[2]/div/button')\n",
    "search_jobs.click()"
   ]
  },
  {
   "cell_type": "code",
   "execution_count": null,
   "id": "afd1113d",
   "metadata": {},
   "outputs": [],
   "source": [
    "#click on location\n",
    "location=driver.find_element(By.XPATH,'/html/body/div[1]/div[1]/div[4]/div/div[1]/div/div[2]/div/ul/li[1]/button')\n",
    "location.click()"
   ]
  },
  {
   "cell_type": "code",
   "execution_count": null,
   "id": "979453e3",
   "metadata": {},
   "outputs": [],
   "source": [
    "#now setting up filter 'Delhi'\n",
    "loc=driver.find_element(By.XPATH,'/html/body/div[1]/div[1]/div[4]/div/div[1]/div/div[2]/div[2]/div/div/div/div[3]/div/div/div/ul/li[7]/span/label')\n",
    "loc.click()\n"
   ]
  },
  {
   "cell_type": "code",
   "execution_count": null,
   "id": "65955927",
   "metadata": {},
   "outputs": [],
   "source": [
    "# now click on close to back to filters\n",
    "close=driver.find_element(By.XPATH,'/html/body/div[1]/div[1]/div[4]/div/div[1]/div/div[2]/div[2]/div/button')\n",
    "close.click()"
   ]
  },
  {
   "cell_type": "code",
   "execution_count": null,
   "id": "071902a0",
   "metadata": {},
   "outputs": [],
   "source": [
    "# click on Salary \n",
    "salary=driver.find_element(By.XPATH,'/html/body/div[1]/div[1]/div[4]/div/div[1]/div/div[2]/div/ul/li[3]/button')\n",
    "salary.click()"
   ]
  },
  {
   "cell_type": "code",
   "execution_count": null,
   "id": "64cdb33d",
   "metadata": {},
   "outputs": [],
   "source": [
    "#now setting up filter'3-6lakh'\n",
    "sal=driver.find_element(By.XPATH,'/html/body/div[1]/div[1]/div[4]/div/div[1]/div/div[2]/div[2]/div/div/div/div[3]/div/div/div/ul/li[3]/span/label')\n",
    "sal.click()"
   ]
  },
  {
   "cell_type": "code",
   "execution_count": null,
   "id": "d5fb8b66",
   "metadata": {},
   "outputs": [],
   "source": [
    "#again click on it back to page\n",
    "close=driver.find_element(By.XPATH,'/html/body/div[1]/div[1]/div[4]/div/div[1]/div/div[2]/div[2]/div/button')\n",
    "close.click()"
   ]
  },
  {
   "cell_type": "code",
   "execution_count": null,
   "id": "c6706a6b",
   "metadata": {},
   "outputs": [],
   "source": [
    "job_title=[]\n",
    "job_location=[]\n",
    "company_name=[]\n",
    "exp=[]\n",
    "\n",
    "#scraping jobs\n",
    "title=driver.find_elements(By.XPATH,'//h2[@itemprop=\"name\"]')\n",
    "for i in title[0:10]:\n",
    "    job_title.append(i.text)\n",
    "    \n",
    "#scraping location\n",
    "location=driver.find_elements(By.XPATH,'//div[@class=\" jobCard_jobCard_lists_item__YxRkV jobCard_locationIcon__zrWt2\"]')\n",
    "for i in location[0:10]:\n",
    "    job_location.append(i.text)\n",
    "    \n",
    "#scraping company  name\n",
    "name=driver.find_elements(By.XPATH,'//div[@class=\"jobCard_jobCard_cName__mYnow\"]')\n",
    "for i in name[0:10]:\n",
    "    company_name.append(i.text)\n",
    "    \n",
    "#scraping experience required \n",
    "e=driver.find_elements(By.XPATH,'//div[@class=\" jobCard_jobCard_lists_item__YxRkV jobCard_jobIcon__3FB1t\"]')\n",
    "for i in e[0:10]:\n",
    "    exp.append(i.text)\n",
    "    "
   ]
  },
  {
   "cell_type": "code",
   "execution_count": null,
   "id": "5687c878",
   "metadata": {},
   "outputs": [],
   "source": [
    "print(len(job_title),len(job_location),len(company_name),len(exp))"
   ]
  },
  {
   "cell_type": "code",
   "execution_count": null,
   "id": "9f7f26bb",
   "metadata": {},
   "outputs": [],
   "source": [
    "import pandas as pd\n",
    "df=pd.DataFrame({'JOB_TITLE':job_title,'JOB_LOCAATION':job_location,'COMPANY_NAME':company_name,'EXP_REQUIRED':exp})\n",
    "df"
   ]
  },
  {
   "cell_type": "code",
   "execution_count": null,
   "id": "3c91cc87",
   "metadata": {},
   "outputs": [],
   "source": []
  },
  {
   "cell_type": "code",
   "execution_count": null,
   "id": "0a54c890",
   "metadata": {},
   "outputs": [],
   "source": []
  },
  {
   "cell_type": "markdown",
   "id": "dfba6352",
   "metadata": {},
   "source": [
    "# scrap 50 most expensive cars"
   ]
  },
  {
   "cell_type": "code",
   "execution_count": null,
   "id": "a12149a0",
   "metadata": {},
   "outputs": [],
   "source": [
    "driver=webdriver.Chrome(r\"C:\\Users\\A\\Desktop\\mansi\\New folder\\chromedriver_win32.zip\\chromedriver.exe\")"
   ]
  },
  {
   "cell_type": "code",
   "execution_count": null,
   "id": "17fbc894",
   "metadata": {},
   "outputs": [],
   "source": [
    "driver=webdriver.Chrome(r\"chromedriver.exe\")"
   ]
  },
  {
   "cell_type": "code",
   "execution_count": null,
   "id": "93fe6a4f",
   "metadata": {},
   "outputs": [],
   "source": [
    "driver.get(\"https://www.motor1.com/\")"
   ]
  },
  {
   "cell_type": "code",
   "execution_count": null,
   "id": "6f4435cb",
   "metadata": {},
   "outputs": [],
   "source": [
    "search=driver.find_element(By.XPATH,'/html/body/div[3]/div[2]/div/div/div[3]/div/div/div/form/input')\n",
    "search.send_keys('50 most expensive cars in the world')"
   ]
  },
  {
   "cell_type": "code",
   "execution_count": null,
   "id": "a6d199f4",
   "metadata": {},
   "outputs": [],
   "source": [
    "search=driver.find_element(By.XPATH,'/html/body/div[3]/div[2]/div/div/div[3]/div/div/div/form/button[1]')\n",
    "search.click()"
   ]
  },
  {
   "cell_type": "code",
   "execution_count": null,
   "id": "9e8a0e87",
   "metadata": {},
   "outputs": [],
   "source": [
    "click_on_search=driver.find_element(By.XPATH,'/html/body/div[3]/div[6]/form/input[2]')\n",
    "click_on_search.click()"
   ]
  },
  {
   "cell_type": "code",
   "execution_count": null,
   "id": "ee633f1b",
   "metadata": {},
   "outputs": [],
   "source": [
    "click_on_cars=driver.find_element(By.XPATH,'/html/body/div[3]/div[9]/div/div[1]/div/div/div[1]/div/div[1]/h3/a')\n",
    "click_on_cars.click()"
   ]
  },
  {
   "cell_type": "code",
   "execution_count": null,
   "id": "40889206",
   "metadata": {},
   "outputs": [],
   "source": [
    "cars=[]\n",
    "c=driver.find_elements(By.XPATH,'//h3[@class=\"subheader\"]')\n",
    "for i in c[0:50]:\n",
    "    cars.append(i.text)\n"
   ]
  },
  {
   "cell_type": "code",
   "execution_count": null,
   "id": "70bff846",
   "metadata": {},
   "outputs": [],
   "source": [
    "cars"
   ]
  },
  {
   "cell_type": "code",
   "execution_count": null,
   "id": "fdd1925b",
   "metadata": {},
   "outputs": [],
   "source": [
    "df=pd.DataFrame({'Most_exp_Cars':cars})\n",
    "df"
   ]
  },
  {
   "cell_type": "code",
   "execution_count": null,
   "id": "685f53e8",
   "metadata": {},
   "outputs": [],
   "source": []
  },
  {
   "cell_type": "markdown",
   "id": "7e0e7353",
   "metadata": {},
   "source": [
    "# Scrape data of first 100 sunglasses listings on flipkart.com.:\n",
    "1. Brand\n",
    "2. ProductDescription\n",
    "3. Price\n"
   ]
  },
  {
   "cell_type": "code",
   "execution_count": null,
   "id": "ae5f528b",
   "metadata": {},
   "outputs": [],
   "source": [
    " driver=webdriver.Chrome(r\"C:\\Users\\A\\Desktop\\mansi\\New folder\\chromedriver_win32.zip\\chromedriver.exe\")      "
   ]
  },
  {
   "cell_type": "code",
   "execution_count": null,
   "id": "859a507c",
   "metadata": {},
   "outputs": [],
   "source": [
    "driver=webdriver.Chrome(r\"chromedriver.exe\")"
   ]
  },
  {
   "cell_type": "code",
   "execution_count": null,
   "id": "344439e1",
   "metadata": {},
   "outputs": [],
   "source": [
    "driver.get('https://www.flipkart.com/')"
   ]
  },
  {
   "cell_type": "code",
   "execution_count": null,
   "id": "c1f83ed4",
   "metadata": {},
   "outputs": [],
   "source": [
    "product=driver.find_element(By.CLASS_NAME,\"_3704LK\")\n",
    "product.send_keys(\"sunglasses\")"
   ]
  },
  {
   "cell_type": "code",
   "execution_count": null,
   "id": "5dffcafe",
   "metadata": {},
   "outputs": [],
   "source": [
    "import time      "
   ]
  },
  {
   "cell_type": "code",
   "execution_count": null,
   "id": "88d7325e",
   "metadata": {},
   "outputs": [],
   "source": [
    "search=driver.find_element(By.CLASS_NAME,\"L0Z3Pu\")\n",
    "search.click()"
   ]
  },
  {
   "cell_type": "code",
   "execution_count": null,
   "id": "ad24beaa",
   "metadata": {},
   "outputs": [],
   "source": [
    "lense_brand=[]\n",
    "start=0\n",
    "end=3\n",
    "for page in range(start,end):\n",
    "    brand=driver.find_elements(By.XPATH,'//div[@class=\"_2WkVRV\"]')                   \n",
    "    for Brand in brand[0:100]:\n",
    "        print(Brand.text)\n",
    "        lense_brand.append(Brand.text)\n",
    "    \n",
    "next_button=driver.find_elements(By.XPATH,'//ass=\"_1LKTO3\"]')\n",
    "next_button.click()\n",
    "time_sleep(3)\n",
    "    "
   ]
  },
  {
   "cell_type": "code",
   "execution_count": null,
   "id": "edf3d67e",
   "metadata": {},
   "outputs": [],
   "source": [
    "lense_brand"
   ]
  },
  {
   "cell_type": "code",
   "execution_count": null,
   "id": "14a4059d",
   "metadata": {},
   "outputs": [],
   "source": [
    "lense_price=[]\n",
    "start=0\n",
    "end=3\n",
    "for page in range(start,end):\n",
    "    price=driver.find_elements(By.XPATH,'//div[@class=\"_30jeq3\"]')\n",
    "    for p in price:\n",
    "        print(p.text)\n",
    "        lense_price.append(p.text)\n",
    "next_button=driver.find_elements(By.XPATH,'//ass=\"_1LKTO3\"]')\n",
    "next_button.click()\n",
    "time_sleep(3)\n",
    "        \n",
    "        "
   ]
  },
  {
   "cell_type": "code",
   "execution_count": null,
   "id": "4c4fd367",
   "metadata": {},
   "outputs": [],
   "source": [
    "lense_price"
   ]
  },
  {
   "cell_type": "code",
   "execution_count": null,
   "id": "0e258b62",
   "metadata": {},
   "outputs": [],
   "source": [
    "product=[]\n",
    "start=0\n",
    "end=3\n",
    "for page in range(start,end):\n",
    "    pd=driver.find_elements(By.XPATH,'//a[@class=\"IRpwTa\"]')\n",
    "    for desc in pd[0:100]:\n",
    "        print(desc.text)\n",
    "        product.append(desc.text)\n",
    "next_button=driver.find_element(By.XPATH,'//a[@class=\"_1LKTO3\"]')\n",
    "next_button.click()"
   ]
  },
  {
   "cell_type": "code",
   "execution_count": null,
   "id": "8513be40",
   "metadata": {},
   "outputs": [],
   "source": [
    "product"
   ]
  },
  {
   "cell_type": "code",
   "execution_count": null,
   "id": "54ded202",
   "metadata": {},
   "outputs": [],
   "source": [
    "print(len(product))"
   ]
  },
  {
   "cell_type": "code",
   "execution_count": null,
   "id": "aff05e57",
   "metadata": {},
   "outputs": [],
   "source": [
    "import pandas as pd\n",
    "df=pd.DataFrame({'Lens_Brand':lense_brand,'Lens_Price':lense_price})\n",
    "df"
   ]
  },
  {
   "cell_type": "markdown",
   "id": "8e52afd3",
   "metadata": {},
   "source": [
    "# Scrape data for first 100 sneakers from flipkart.com and search for “sneakers” in the\n",
    "search field.\n",
    "we have to scrape 3 attributes of each sneaker:\n",
    "1. Brand\n",
    "2. ProductDescription\n",
    "3. Price"
   ]
  },
  {
   "cell_type": "code",
   "execution_count": null,
   "id": "10f4a298",
   "metadata": {},
   "outputs": [],
   "source": [
    " driver=webdriver.Chrome(r\"C:\\Users\\A\\Desktop\\mansi\\New folder\\chromedriver_win32.zip\\chromedriver.exe\")      "
   ]
  },
  {
   "cell_type": "code",
   "execution_count": null,
   "id": "c6ef4b54",
   "metadata": {},
   "outputs": [],
   "source": [
    "driver=webdriver.Chrome(r\"chromedriver.exe\")"
   ]
  },
  {
   "cell_type": "code",
   "execution_count": null,
   "id": "b8e0b746",
   "metadata": {},
   "outputs": [],
   "source": [
    "driver.get('https://www.flipkart.com/')"
   ]
  },
  {
   "cell_type": "code",
   "execution_count": null,
   "id": "05fb40d5",
   "metadata": {},
   "outputs": [],
   "source": [
    "#Entering Sneaker in search bar\n",
    "search=driver.find_element(By.CLASS_NAME,\"_3704LK\")\n",
    "search.send_keys(\" sneaker\")"
   ]
  },
  {
   "cell_type": "code",
   "execution_count": null,
   "id": "e9fed247",
   "metadata": {},
   "outputs": [],
   "source": [
    "#click pop up\n",
    "cut=driver.find_element(By.XPATH,'/html/body/div[2]/div/div/button')\n",
    "cut.click()"
   ]
  },
  {
   "cell_type": "code",
   "execution_count": null,
   "id": "e037fc6e",
   "metadata": {},
   "outputs": [],
   "source": [
    "#click search button\n",
    "search=driver.find_element(By.XPATH,'/html/body/div[1]/div/div[1]/div[1]/div[2]/div[2]/form/div/button')\n",
    "search.click()"
   ]
  },
  {
   "cell_type": "code",
   "execution_count": null,
   "id": "5d849c4d",
   "metadata": {},
   "outputs": [],
   "source": [
    "#click relevent\n",
    "rel=driver.find_element(By.XPATH,'//div[@class=\"_10UF8M _3LsR0e\"]')\n",
    "rel.click()"
   ]
  },
  {
   "cell_type": "code",
   "execution_count": null,
   "id": "c9db0374",
   "metadata": {},
   "outputs": [],
   "source": [
    "#scraping sneaker Brand\n",
    "Brand=[]\n",
    "start=0\n",
    "end=3\n",
    "for page in range(start,end):\n",
    "    b=driver.find_elements(By.XPATH,'//div[@class=\"_2WkVRV\"]')\n",
    "    for i in b[0:100]:\n",
    "        Brand.append(i.text)\n",
    "next_button=driver.find_element(By.XPATH,'//a[@class=\"_1LKTO3\"]') \n",
    "next_button.click()\n"
   ]
  },
  {
   "cell_type": "code",
   "execution_count": null,
   "id": "d304dfde",
   "metadata": {},
   "outputs": [],
   "source": [
    "Brand"
   ]
  },
  {
   "cell_type": "code",
   "execution_count": null,
   "id": "7177c0c6",
   "metadata": {},
   "outputs": [],
   "source": [
    "#scraping sneaker prices\n",
    "prices=[]\n",
    "start=0\n",
    "end=3\n",
    "for page in range(start,end):\n",
    "    p=driver.find_elements(By.XPATH,'//div[@class=\"_30jeq3\"]')\n",
    "    for i in p[0:100]:\n",
    "            print(i.text)\n",
    "            prices.append(i.text)\n",
    "next_button=driver.find_elements(By.XPATH,'//a[@class=\"_1LKTO3\"]')\n",
    "next_button.click()\n"
   ]
  },
  {
   "cell_type": "code",
   "execution_count": null,
   "id": "4f09d6bf",
   "metadata": {},
   "outputs": [],
   "source": [
    "prices"
   ]
  },
  {
   "cell_type": "code",
   "execution_count": null,
   "id": "31793e05",
   "metadata": {},
   "outputs": [],
   "source": [
    "prod_desc=[]\n",
    "start=0\n",
    "end=3\n",
    "for i in range(start,end):\n",
    "    desc=driver.find_elements(By.XPATH,'//a[@class=\"IRpwTa\"]')\n",
    "    for i in desc[0:100]:\n",
    "        print(i.text)\n",
    "        prod_desc.append(i.text)\n",
    "next_button=driver.find_element(By.XPATH,'//a[@class=\"_1LKTO3\"]')[0]\n",
    "next_button.click()   "
   ]
  },
  {
   "cell_type": "code",
   "execution_count": null,
   "id": "648ac896",
   "metadata": {},
   "outputs": [],
   "source": [
    "prod_desc"
   ]
  },
  {
   "cell_type": "code",
   "execution_count": null,
   "id": "480e3db0",
   "metadata": {},
   "outputs": [],
   "source": [
    "print(len(prod_desc),len(prices),len(Brand))"
   ]
  },
  {
   "cell_type": "code",
   "execution_count": null,
   "id": "2231e68a",
   "metadata": {},
   "outputs": [],
   "source": [
    "import pandas as pd\n",
    "df=pd.DataFrame({'Sneaker_Brand':Brand,'Prices':prices})\n",
    "df"
   ]
  },
  {
   "cell_type": "code",
   "execution_count": null,
   "id": "8add8b28",
   "metadata": {},
   "outputs": [],
   "source": []
  },
  {
   "cell_type": "code",
   "execution_count": null,
   "id": "64e817dc",
   "metadata": {},
   "outputs": [],
   "source": []
  },
  {
   "cell_type": "code",
   "execution_count": null,
   "id": "1e2f4a8d",
   "metadata": {},
   "outputs": [],
   "source": []
  },
  {
   "cell_type": "markdown",
   "id": "efe2a531",
   "metadata": {},
   "source": [
    "# A python program to Scrape data for Top 100 Quotes of All Time.\n",
    "The  following steps:\n",
    "1. First get the webpagehttps://www.azquotes.com/\n",
    "2. Click on TopQuote\n",
    "a) Quote\n",
    "b) Author \n",
    "c) Type Of Quotes"
   ]
  },
  {
   "cell_type": "code",
   "execution_count": null,
   "id": "38eeb260",
   "metadata": {},
   "outputs": [],
   "source": [
    "driver=webdriver.Chrome(r\"C:\\Users\\A\\Desktop\\mansi\\New folder\\chromedriver_win32.zip\\chromedriver.exe\")\n",
    "driver=webdriver.Chrome(r\"chromedriver.exe\")"
   ]
  },
  {
   "cell_type": "code",
   "execution_count": null,
   "id": "bb8105a9",
   "metadata": {},
   "outputs": [],
   "source": [
    "driver.get('https://www.azquotes.com/')"
   ]
  },
  {
   "cell_type": "code",
   "execution_count": null,
   "id": "59ddb978",
   "metadata": {},
   "outputs": [],
   "source": [
    "# click the Top Quote \n",
    "quote=driver.find_element(By.XPATH,'/html/body/div[1]/div[1]/div[1]/div/div[3]/ul/li[5]/a')\n",
    "quote.click()"
   ]
  },
  {
   "cell_type": "code",
   "execution_count": null,
   "id": "399801e1",
   "metadata": {},
   "outputs": [],
   "source": [
    "top_quote=[]\n",
    "start=0\n",
    "end=10\n",
    "for page in range(start,end):\n",
    "    Quote=driver.find_elements(By.XPATH,'//a[@class=\"title\"]')\n",
    "    for i in Quote:\n",
    "        top_quote.append(i.text)\n",
    "next_button=driver.find_element(By.XPATH,'//li[@class=\"next\"]')\n",
    "next_button.click()"
   ]
  },
  {
   "cell_type": "code",
   "execution_count": null,
   "id": "98e83b94",
   "metadata": {},
   "outputs": [],
   "source": [
    "#top_quote"
   ]
  },
  {
   "cell_type": "code",
   "execution_count": null,
   "id": "6a789c51",
   "metadata": {},
   "outputs": [],
   "source": [
    "# scraping Author\n",
    "author=[]\n",
    "start=0\n",
    "end=10\n",
    "for page in range(start,end):\n",
    "    Author=driver.find_elements(By.XPATH,'//div[@class=\"author\"]')\n",
    "    for i in Author:\n",
    "        author.append(i.text)\n",
    "next_button=driver.find_element(By.XPATH,'//li[@class=\"next\"]')\n",
    "next_button.click()"
   ]
  },
  {
   "cell_type": "code",
   "execution_count": null,
   "id": "5c3acc65",
   "metadata": {},
   "outputs": [],
   "source": [
    "author"
   ]
  },
  {
   "cell_type": "code",
   "execution_count": null,
   "id": "a7db2c23",
   "metadata": {},
   "outputs": [],
   "source": [
    "#scraping Type of Quote\n",
    "quote_type=[]\n",
    "start=0\n",
    "end=10\n",
    "for page in range(start,end):\n",
    "    t=driver.find_elements(By.XPATH,'//div[@class=\"tags\"]')\n",
    "    for i in t:\n",
    "        quote_type.append(i.text)\n",
    "next_button=driver.find_element(By.XPATH,'//li[@class=\"next\"]')\n",
    "next_button.click()\n",
    "    "
   ]
  },
  {
   "cell_type": "code",
   "execution_count": null,
   "id": "65237439",
   "metadata": {},
   "outputs": [],
   "source": [
    "quote_type"
   ]
  },
  {
   "cell_type": "code",
   "execution_count": null,
   "id": "04a41fe2",
   "metadata": {},
   "outputs": [],
   "source": [
    "#printing length\n",
    "print(len(quote_type),len(author),len(top_quote))"
   ]
  },
  {
   "cell_type": "code",
   "execution_count": null,
   "id": "c949108e",
   "metadata": {},
   "outputs": [],
   "source": [
    "#Making DataFrame\n",
    "import pandas as pd\n",
    "df=pd.DataFrame({'TOP_QUOTE':top_quote,'QUOTE_TYPE':quote_type,'AUTHOR':author})\n",
    "df"
   ]
  },
  {
   "cell_type": "markdown",
   "id": "f2069862",
   "metadata": {},
   "source": [
    "# A python program to display list of respected former Prime Ministers of India(i.e. Name, Born-Dead,\n",
    "Term of office, Remarks) from https://www.jagranjosh.com/.\n",
    "\n",
    "1. First get the webpagehttps://www.jagranjosh.com/\n",
    "2. Then You have to click on the GK option\n",
    "3. Then click on the List of all Prime Ministers of India\n",
    "4. Then scrap the mentioned data and make theDataFrame."
   ]
  },
  {
   "cell_type": "code",
   "execution_count": null,
   "id": "25b0ac42",
   "metadata": {},
   "outputs": [],
   "source": [
    "driver=webdriver.Chrome(r\"C:\\Users\\A\\Desktop\\mansi\\New folder\\chromedriver_win32.zip\\chromedriver.exe\")\n",
    "driver=webdriver.Chrome(r\"chromedriver.exe\")"
   ]
  },
  {
   "cell_type": "code",
   "execution_count": null,
   "id": "2c1bd0ee",
   "metadata": {},
   "outputs": [],
   "source": [
    "# scrap the web page\n",
    "driver.get('https://www.jagranjosh.com/')"
   ]
  },
  {
   "cell_type": "code",
   "execution_count": null,
   "id": "c060b637",
   "metadata": {},
   "outputs": [],
   "source": [
    "# click on g.k option\n",
    "option=driver.find_element(By.XPATH,'/html/body/div[1]/div[1]/div/div[1]/div/div[5]/div/div[1]/header/div[3]/ul/li[3]/a')\n",
    "option.click()"
   ]
  },
  {
   "cell_type": "code",
   "execution_count": null,
   "id": "cde9faff",
   "metadata": {},
   "outputs": [],
   "source": [
    "# Then click on List of all Prime Minister of India\n",
    "click_on_PM=driver.find_element(By.XPATH,'/html/body/div[1]/div/div/div[2]/div/div[10]/div/div/ul/li[2]/a')\n",
    "click_on_PM.click()"
   ]
  },
  {
   "cell_type": "code",
   "execution_count": null,
   "id": "23c8f6d3",
   "metadata": {},
   "outputs": [],
   "source": [
    "# scrap the name of Prime Minister\n",
    "pm=[]\n",
    "p=driver.find_elements(By.XPATH,'//div[@class=\"table-box\"]/table/tbody/tr/td[2]/p')\n",
    "for i in p:\n",
    "    pm.append(i.text)"
   ]
  },
  {
   "cell_type": "code",
   "execution_count": null,
   "id": "3efc0d84",
   "metadata": {},
   "outputs": [],
   "source": [
    "pm"
   ]
  },
  {
   "cell_type": "code",
   "execution_count": null,
   "id": "9a9e2c5d",
   "metadata": {},
   "outputs": [],
   "source": [
    "#scrap the Born-death Date\n",
    "date=[]\n",
    "d=driver.find_elements(By.XPATH,'//div[@class=\"table-box\"]/table/tbody/tr/td[3]/p')\n",
    "for i in d:\n",
    "    date.append(i.text)"
   ]
  },
  {
   "cell_type": "code",
   "execution_count": null,
   "id": "028614a1",
   "metadata": {},
   "outputs": [],
   "source": [
    "date"
   ]
  },
  {
   "cell_type": "code",
   "execution_count": null,
   "id": "9943d4f5",
   "metadata": {},
   "outputs": [],
   "source": [
    "#scrap the Terms of Offices\n",
    "terms_of_office=[]\n",
    "t=driver.find_elements(By.XPATH,'//div[@class=\"table-box\"]/table/tbody/tr/td[4]/p/span')\n",
    "for i in t[0:19]:\n",
    "    terms_of_office.append(i.text)"
   ]
  },
  {
   "cell_type": "code",
   "execution_count": null,
   "id": "f3bc138f",
   "metadata": {},
   "outputs": [],
   "source": [
    "terms_of_office"
   ]
  },
  {
   "cell_type": "code",
   "execution_count": null,
   "id": "49c9598e",
   "metadata": {},
   "outputs": [],
   "source": [
    "#scrap Remark\n",
    "remark=[]\n",
    "r=driver.find_elements(By.XPATH,'//div[@class=\"table-box\"]/table/tbody/tr/td[5]/p')\n",
    "for i in r:\n",
    "    remark.append(i.text)"
   ]
  },
  {
   "cell_type": "code",
   "execution_count": null,
   "id": "d713569e",
   "metadata": {},
   "outputs": [],
   "source": [
    "remark"
   ]
  },
  {
   "cell_type": "code",
   "execution_count": null,
   "id": "acb47e0f",
   "metadata": {},
   "outputs": [],
   "source": [
    "print(len(pm),len(remark),len(date),len(terms_of_office))"
   ]
  },
  {
   "cell_type": "code",
   "execution_count": null,
   "id": "d661512f",
   "metadata": {},
   "outputs": [],
   "source": [
    "#create a DataFrame\n",
    "import pandas as pd\n",
    "df=pd.DataFrame({'PRIME_MINISTER':pm,'BORN_DEATH-DATE':date,'TERMS_OF_OFFICE':terms_of_office,'REMARK':remark})"
   ]
  },
  {
   "cell_type": "code",
   "execution_count": null,
   "id": "1bd934b6",
   "metadata": {},
   "outputs": [],
   "source": [
    "df"
   ]
  },
  {
   "cell_type": "code",
   "execution_count": null,
   "id": "433dbcf6",
   "metadata": {},
   "outputs": [],
   "source": []
  },
  {
   "cell_type": "markdown",
   "id": "23b7162c",
   "metadata": {},
   "source": [
    "# scraping first 10 laptop data\n",
    "After setting the filters(\"IntelCorei7\") scrape first 10 laptops data. We have to scrape 3 attributes for each laptop:\n",
    "1. Title\n",
    "2. Ratings\n",
    "3. Price\n"
   ]
  },
  {
   "cell_type": "code",
   "execution_count": null,
   "id": "54f7c3f4",
   "metadata": {},
   "outputs": [],
   "source": [
    "driver=webdriver.Chrome(r\"C:\\Users\\A\\Desktop\\mansi\\New folder\\chromedriver_win32.zip\\chromedriver.exe\")\n",
    "driver=webdriver.Chrome(r\"chromedriver.exe\")"
   ]
  },
  {
   "cell_type": "code",
   "execution_count": null,
   "id": "6f8790fc",
   "metadata": {},
   "outputs": [],
   "source": [
    "driver.get('https://www.amazon.in/')"
   ]
  },
  {
   "cell_type": "code",
   "execution_count": null,
   "id": "54606127",
   "metadata": {},
   "outputs": [],
   "source": [
    "# search laptop by entering\n",
    "search=driver.find_element(By.XPATH,'/html/body/div[1]/header/div/div[1]/div[2]/div/form/div[2]/div[1]/input')\n",
    "search.send_keys('Laptop')"
   ]
  },
  {
   "cell_type": "code",
   "execution_count": null,
   "id": "eaf4bc72",
   "metadata": {},
   "outputs": [],
   "source": [
    "# click on search button\n",
    "button=driver.find_element(By.XPATH,'/html/body/div[1]/header/div/div[1]/div[2]/div/form/div[3]/div/span/input')\n",
    "button.click()"
   ]
  },
  {
   "cell_type": "code",
   "execution_count": null,
   "id": "9ed68947",
   "metadata": {},
   "outputs": [],
   "source": [
    "#Apply filter\n",
    "# click checkbox of intelCorei7\n",
    "#by applying Full Path\n",
    "c=driver.find_element(By.XPATH,'/html/body/div[1]/div[2]/div[1]/div[2]/div/div[3]/span/div[1]/div/div/div[6]/ul[6]/span[9]/li/span/a/span')"
   ]
  },
  {
   "cell_type": "code",
   "execution_count": null,
   "id": "a37bf214",
   "metadata": {},
   "outputs": [],
   "source": [
    "#now check the box\n",
    "c.click()"
   ]
  },
  {
   "cell_type": "code",
   "execution_count": null,
   "id": "b49f63cc",
   "metadata": {},
   "outputs": [],
   "source": [
    "#scraping Laptop titles\n",
    "title=[]\n",
    "laptop=driver.find_elements(By.XPATH,'//span[@class=\"a-size-medium a-color-base a-text-normal\"]')\n",
    "for i in laptop[0:10]:\n",
    "    title.append(i.text)"
   ]
  },
  {
   "cell_type": "code",
   "execution_count": null,
   "id": "0a1cd911",
   "metadata": {},
   "outputs": [],
   "source": [
    "title"
   ]
  },
  {
   "cell_type": "code",
   "execution_count": null,
   "id": "9792b916",
   "metadata": {},
   "outputs": [],
   "source": [
    "#scraping Laptop Ratings\n",
    "rating=[]\n",
    "r=driver.find_elements(By.XPATH,'//span[@class=\"a-size-base s-underline-text\"]')\n",
    "for i in r[0:10]:\n",
    "    rating.append(i.text)"
   ]
  },
  {
   "cell_type": "code",
   "execution_count": null,
   "id": "af40877d",
   "metadata": {},
   "outputs": [],
   "source": [
    "rating"
   ]
  },
  {
   "cell_type": "code",
   "execution_count": null,
   "id": "d8be5618",
   "metadata": {},
   "outputs": [],
   "source": [
    "#scraping Laptop price\n",
    "price=[]\n",
    "p=driver.find_elements(By.XPATH,'//span[@class=\"a-price-whole\"]')\n",
    "for i in p[0:10]:\n",
    "    price.append(i.text)"
   ]
  },
  {
   "cell_type": "code",
   "execution_count": null,
   "id": "999b3120",
   "metadata": {},
   "outputs": [],
   "source": [
    "price"
   ]
  },
  {
   "cell_type": "code",
   "execution_count": null,
   "id": "9f2f68c4",
   "metadata": {},
   "outputs": [],
   "source": [
    "print(len(title),len(price),len(rating))"
   ]
  },
  {
   "cell_type": "code",
   "execution_count": null,
   "id": "7301a574",
   "metadata": {},
   "outputs": [],
   "source": [
    "import pandas as pd\n",
    "df=pd.DataFrame({'Laptop_title':title,'Ratings':rating,'Price':price})\n",
    "df"
   ]
  },
  {
   "cell_type": "markdown",
   "id": "45613330",
   "metadata": {},
   "source": [
    "# Scrape 100 reviews data from flipkart.com for iphone11 phone.\n",
    "https://www.flipkart.com/apple-iphone-11-black-64-gb/productreviews/itm4e5041ba101fd?pid=MOBFWQ6BXGJCEYNY&lid=LSTMOBFWQ6BXGJCEYNYZXSHRJ&market\n",
    "place=FLIPKART\n",
    "\n",
    "\n",
    "1. Rating\n",
    "2. Review summary\n",
    "3. Full review\n"
   ]
  },
  {
   "cell_type": "code",
   "execution_count": null,
   "id": "bc0463bf",
   "metadata": {},
   "outputs": [],
   "source": [
    "driver=webdriver.Chrome(r\"C:\\Users\\A\\Desktop\\mansi\\New folder\\chromedriver_win32.zip\\chromedriver.exe\")\n",
    "driver=webdriver.Chrome(r\"chromedriver.exe\")"
   ]
  },
  {
   "cell_type": "code",
   "execution_count": null,
   "id": "c73d1c04",
   "metadata": {},
   "outputs": [],
   "source": [
    "# get the web page\n",
    "driver.get('https://www.flipkart.com/apple-iphone-11-black-64-gb/product-reviews/itm4e5041ba101fd?pid=MOBFWQ6BXGJCEYNY&lid=LSTMOBFWQ6BXGJCEYNYZXSHRJ&market')"
   ]
  },
  {
   "cell_type": "code",
   "execution_count": null,
   "id": "c15a104e",
   "metadata": {},
   "outputs": [],
   "source": [
    "#scraping first 100 Reviews\n",
    "r_summary=[]\n",
    "start=0\n",
    "end=10\n",
    "for page in range(start,end):\n",
    "    review=driver.find_elements(By.XPATH,'//p[@class=\"_2-N8zT\"]')\n",
    "    for i in review[0:100]:\n",
    "        r_summary.append(i.text)\n",
    "        \n",
    "next_button=driver.find_element(By.XPATH,'//a[@class=\"_1LKTO3\"]')\n",
    "next_button.click()"
   ]
  },
  {
   "cell_type": "code",
   "execution_count": null,
   "id": "f12357df",
   "metadata": {},
   "outputs": [],
   "source": [
    "r_summary"
   ]
  },
  {
   "cell_type": "code",
   "execution_count": null,
   "id": "242f8d40",
   "metadata": {},
   "outputs": [],
   "source": [
    "#scraping  first 100 Full_Review\n",
    "full_review=[]\n",
    "start=0\n",
    "end=10\n",
    "for page in range(start,end):\n",
    "    full_rw=driver.find_elements(By.XPATH,'//div[@class=\"t-ZTKy\"]')\n",
    "    for i in full_rw[0:100]:\n",
    "        full_review.append(i.text)\n",
    "        \n",
    "            \n",
    "next_button=driver.find_element(By.XPATH,'//a[@class=\"_1LKTO3\"]')\n",
    "next_button.click()"
   ]
  },
  {
   "cell_type": "code",
   "execution_count": null,
   "id": "79ae4cf2",
   "metadata": {},
   "outputs": [],
   "source": [
    "full_review"
   ]
  },
  {
   "cell_type": "code",
   "execution_count": null,
   "id": "3351ec63",
   "metadata": {},
   "outputs": [],
   "source": [
    "#scraping  first 100 Rating\n",
    "rating=[]\n",
    "start=0\n",
    "end=10\n",
    "for page in range(start,end):\n",
    "    rt=driver.find_elements(By.XPATH,'//div[@class=\"_3LWZlK _1BLPMq\"]')\n",
    "    for ratings in rt[0:100]:\n",
    "            rating.append(ratings.text)\n",
    "            \n",
    "next_button=driver.find_element(By.XPATH,'//a[@class=\"_1LKTO3\"]')\n",
    "next_button.click()            \n",
    "            \n",
    "    "
   ]
  },
  {
   "cell_type": "code",
   "execution_count": null,
   "id": "cb0718a7",
   "metadata": {},
   "outputs": [],
   "source": [
    "rating"
   ]
  },
  {
   "cell_type": "code",
   "execution_count": null,
   "id": "6829ae2c",
   "metadata": {},
   "outputs": [],
   "source": [
    "print(len(full_review),len(rating),len(r_summary))"
   ]
  },
  {
   "cell_type": "code",
   "execution_count": null,
   "id": "84c6b321",
   "metadata": {},
   "outputs": [],
   "source": [
    "import pandas as pd\n",
    "df=pd.DataFrame({'FULL_REVIEW':full_review,'RATING':rating,'REVIEW':r_summary})\n",
    "df"
   ]
  },
  {
   "cell_type": "code",
   "execution_count": null,
   "id": "1ab6df06",
   "metadata": {},
   "outputs": [],
   "source": []
  }
 ],
 "metadata": {
  "kernelspec": {
   "display_name": "Python 3 (ipykernel)",
   "language": "python",
   "name": "python3"
  },
  "language_info": {
   "codemirror_mode": {
    "name": "ipython",
    "version": 3
   },
   "file_extension": ".py",
   "mimetype": "text/x-python",
   "name": "python",
   "nbconvert_exporter": "python",
   "pygments_lexer": "ipython3",
   "version": "3.9.13"
  }
 },
 "nbformat": 4,
 "nbformat_minor": 5
}
